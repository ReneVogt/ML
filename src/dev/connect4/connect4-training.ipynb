{
 "cells": [
  {
   "cell_type": "code",
   "execution_count": 179,
   "metadata": {},
   "outputs": [],
   "source": [
    "import random\n",
    "import torch\n",
    "import torch.nn as nn\n",
    "import torch.nn.functional as F\n",
    "import importlib\n",
    "import connect4\n",
    "importlib.reload(connect4);\n",
    "from connect4 import Connect4"
   ]
  },
  {
   "cell_type": "code",
   "execution_count": 180,
   "metadata": {},
   "outputs": [
    {
     "data": {
      "text/plain": [
       "113287"
      ]
     },
     "execution_count": 180,
     "metadata": {},
     "output_type": "execute_result"
    }
   ],
   "source": [
    "#\n",
    "# Create the model and optimizer\n",
    "# \n",
    "class Connect4Cnn(nn.Module):\n",
    "    def __init__(self):\n",
    "        super(Connect4Cnn, self).__init__()\n",
    "        self.conv1 = nn.Conv2d(3, 64,  kernel_size=3, padding=1)    \n",
    "        self.conv2 = nn.Conv2d(64, 128, kernel_size=3, padding=1)\n",
    "        #self.conv3 = nn.Conv2d(128, 128, kernel_size=3, padding=1)\n",
    "        self.out = nn.Linear(128*6*7, 7)\n",
    "\n",
    "    def forward(self, x):\n",
    "        x = F.relu(self.conv1(x))\n",
    "        x = F.relu(self.conv2(x))\n",
    "        #x = F.relu(self.conv3(x))\n",
    "        x = x.view(-1)\n",
    "        x = self.out(x)\n",
    "        return x\n",
    "\n",
    "model = Connect4Cnn()\n",
    "optimizer = torch.optim.RMSprop(model.parameters(), lr = 0.01, alpha = 0.99)\n",
    "sum(p.numel() for p in model.parameters() if p.requires_grad)"
   ]
  },
  {
   "cell_type": "code",
   "execution_count": 181,
   "metadata": {},
   "outputs": [],
   "source": [
    "#\n",
    "# Load model from checkpoint\n",
    "#\n",
    "games = 0\n",
    "if games > 0:\n",
    "    cp = torch.load(f'connect4-{games}.nn');\n",
    "    model.load_state_dict(cp['model_state_dict']);\n",
    "    optimizer.load_state_dict(cp['optimizer_state_dict']);"
   ]
  },
  {
   "cell_type": "code",
   "execution_count": 182,
   "metadata": {},
   "outputs": [],
   "source": [
    "@torch.no_grad()\n",
    "def checkpoint(step):\n",
    "    train = model.training\n",
    "    if train: model.eval();\n",
    "    print(f\"{step}: checkpoint...\")\n",
    "    torch.save({\n",
    "        'model_state_dict': model.state_dict(),\n",
    "        'optimizer_state_dict': optimizer.state_dict(),\n",
    "    }, f'connect4-{step}.nn');\n",
    "\n",
    "    dummy_input = Connect4().state\n",
    "    torch.onnx.export(model, dummy_input, f\"connect4-{step}.onnx\");\n",
    "\n",
    "    print(f\"{step}: checkpoint saved.\")\n",
    "    if train: model.train();\n"
   ]
  },
  {
   "cell_type": "code",
   "execution_count": 183,
   "metadata": {},
   "outputs": [],
   "source": [
    "#\n",
    "# Validation\n",
    "#\n",
    "@torch.no_grad()\n",
    "def validate(numberOfGames):\n",
    "    print('Validation...')\n",
    "    xw, xd, xl, ow, od, ol  = connect4.validate(model, numberOfGames)\n",
    "    xtotal = xw + xd + xl\n",
    "    ototal = ow + od + ol\n",
    "    print(f\"Cross: {100*xw/xtotal:.2f}% of {xtotal} ({xw}/{xd}/{xl})\")\n",
    "    print(f\"Circle: {100*(ow+od)/ototal:.2f}% of {ototal} ({ow}/{od}/{ol})\")"
   ]
  },
  {
   "cell_type": "code",
   "execution_count": 184,
   "metadata": {},
   "outputs": [
    {
     "name": "stdout",
     "output_type": "stream",
     "text": [
      "5000: average loss: 4.723663315574685\n"
     ]
    }
   ],
   "source": [
    "#\n",
    "# TRAINING\n",
    "#\n",
    "\n",
    "epsilon = 0.3\n",
    "gamma = 0.9\n",
    "\n",
    "log_interval = 5000\n",
    "validation_interval = 50000\n",
    "validation_games = 10000\n",
    "checkpoint_interval = 50000\n",
    "losses = []\n",
    "model.train()\n",
    "for _ in range(100000):\n",
    "    env = Connect4()\n",
    "    done = False\n",
    "    games += 1\n",
    "    moves = 0\n",
    "\n",
    "    qstack = []\n",
    "\n",
    "    while env.winner == 0 and not env.full:\n",
    "        q = model(env.state)\n",
    "        targetq = q.detach().clone()\n",
    "        validmoves = [a for a in range(7) if env.is_valid(a)]\n",
    "\n",
    "        e = random.uniform(0, 1)\n",
    "        if e < epsilon:\n",
    "            action = random.choice(validmoves)\n",
    "        else:\n",
    "            action = max(validmoves, key=lambda x: q[x])\n",
    "        \n",
    "        qstack.append((q, action, validmoves))\n",
    "        env.move(action)\n",
    "        moves += 1\n",
    "\n",
    "    qlist = []\n",
    "    targetlist = []\n",
    "\n",
    "    (q, action, validmoves) = qstack.pop()\n",
    "    targetq = q.clone().detach()\n",
    "    targetq[action] = 1 if env.winner != 0 else 0\n",
    "    qlist.append(q)\n",
    "    targetlist.append(targetq)\n",
    "\n",
    "    while len(qstack) > 0:\n",
    "        next_q = targetq\n",
    "        nextvalidmoves = validmoves\n",
    "        (q, action, validmoves) = qstack.pop()\n",
    "        targetq = q.clone().detach()\n",
    "        next_max = -max([next_q[a] for a in nextvalidmoves]).item()\n",
    "        targetq[action] = -0.1 + gamma * next_max\n",
    "        qlist.append(q)\n",
    "        targetlist.append(targetq)\n",
    "\n",
    "    qtensor = torch.stack(qlist)\n",
    "    targettensor = torch.stack(targetlist)\n",
    "    loss = F.mse_loss(qtensor, targettensor,)\n",
    "    losses.append(loss.item())\n",
    "\n",
    "    optimizer.zero_grad()\n",
    "    loss.backward()\n",
    "    optimizer.step()\n",
    "\n",
    "    if games % log_interval == 0:\n",
    "        print(f'{games}: average loss: {sum(losses)/len(losses)}')\n",
    "        losses = []\n",
    "    if games % validation_interval == 0:\n",
    "        validate(validation_games)\n",
    "    if games % checkpoint_interval == 0:\n",
    "        checkpoint(games)\n"
   ]
  },
  {
   "cell_type": "markdown",
   "metadata": {},
   "source": [
    "### Connect4 CNN training \n",
    "\n",
    "#### Layers: C64-C128\n",
    "&gamma;: 0.9, &epsilon;: 0.3\n",
    "optimizer: RMSprop lr: 0.01 &alpha;: = 0.999\n",
    "\n",
    "| Games     | &gamma; | &epsilon; | Loss                  | Cross     | Circle | Remarks\n",
    "| :-------: | :---:   | :---:     | :-----------:         | :-------: | :-------: | :-------:\n",
    "|  50000    | 0.9     | 0.3       ||\n",
    "| 100000    | 0.9     | 0.3       ||\n",
    "\n",
    "\n",
    "#### Layers: C64-C128-C128\n",
    "&lr;: 0.1, &gamma;: 0.9, &epsilon;: 0.5\n",
    "\n",
    "| Games     | Loss                  | Cross     | Circle | Remarks\n",
    "| :-------: | :-----------:         | :-------: | :-------: | :-------:\n",
    "|  50000    | 0.005292380097397108  | 89.98%    | 84.68%\n",
    "| 100000    | 0.004793603768121102  | 91.16%    | 85.10%\n",
    "| 150000    | 0.004057415647386188  | 86.90%    | 88.80%\n",
    "| 200000    | 0.0034653012876227876 | 95.20%    | 90.72%\n",
    "| 250000    | 0.003226012402748529  | 95.66%    | 93.82% \n",
    "| 300000    | 0.00299808547905468   | 94.62%    | 94.32%\n",
    "| 350000    | 0.0028812737085465415 | 96.62%    | 96.18%\n",
    "| 400000    | 0.0025629888497351204 | 97.60%    | 94.76% \n",
    "| 450000    | 0.002434644917307014  | 97.96%    | 96.40%\n",
    "| 500000    | 0.002341157681126242  | 98.20%    | 94.50% | optimizing training loop\n",
    "| 550000    | 0.0022111331460142537 | 97.54%    | 95.18%\n",
    "| 600000    | 0.0022098078040602557 | 97.46%    | 96.14% | reducing &epsilon; to 0.3\n",
    "| 650000    | 0.0017878218773417303 | 97.74%    | 96.46% |\n",
    "| 700000    | 0.0017158431361114707 | 96.78%    | 97.42% | refactoring learning loop\n",
    "| 750000    | 0.0022741290108140673 | 97.44%    | 97.00% |\n",
    "| 800000    | 0.0024079284169672066 | 96.68%    | 96.14% | consolidate loss, &alpha;: 0.05, &epsilon;: 0.2, &epsilon;': 0.8\n",
    "| 850000    | 0.0012254708257347828 | 96.12%    | 96.12% |\n",
    "| 900000    | 0.0010383383095133696 | 95.60%    | 97.16% | &alpha;: 0.025, &epsilon;: 0.2\n",
    "| 950000    | 0.0020861899321079134 | 96.88%    | 97.22% |\n",
    "| 1000000   | 0.0022770740728620693 | 96.64%    | 97.14% |\n"
   ]
  }
 ],
 "metadata": {
  "kernelspec": {
   "display_name": "Python 3",
   "language": "python",
   "name": "python3"
  },
  "language_info": {
   "codemirror_mode": {
    "name": "ipython",
    "version": 3
   },
   "file_extension": ".py",
   "mimetype": "text/x-python",
   "name": "python",
   "nbconvert_exporter": "python",
   "pygments_lexer": "ipython3",
   "version": "3.12.3"
  },
  "orig_nbformat": 4
 },
 "nbformat": 4,
 "nbformat_minor": 2
}
