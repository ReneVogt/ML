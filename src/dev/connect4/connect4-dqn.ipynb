{
 "cells": [
  {
   "cell_type": "code",
   "execution_count": 1,
   "metadata": {},
   "outputs": [],
   "source": [
    "import sys\n",
    "sys.path.append('../')\n",
    "import datetime\n",
    "import numpy as np\n",
    "from board import Connect4Board\n",
    "from agent import Connect4Agent, createStateTensor, calculateReward\n",
    "from validation import validate\n",
    "\n",
    "def log(message):\n",
    "    print(f\"[{datetime.datetime.now().strftime('%H:%M:%S')}] {message}\")"
   ]
  },
  {
   "cell_type": "code",
   "execution_count": 2,
   "metadata": {},
   "outputs": [],
   "source": [
    "#\n",
    "# Hyper parameters\n",
    "# \n",
    "lr = 0.1\n",
    "gamma = 0.9\n",
    "epsilon = 0.005\n",
    "eps_min = 0\n",
    "eps_dec = 0\n",
    "batch_size = 512\n",
    "memory_size = 256000\n",
    "\n",
    "target_update_interval = 64"
   ]
  },
  {
   "cell_type": "code",
   "execution_count": 3,
   "metadata": {},
   "outputs": [],
   "source": [
    "agent = Connect4Agent(\n",
    "    lr = lr, \n",
    "    epsilon = epsilon, \n",
    "    epsilon_end = eps_min, \n",
    "    epsilon_decay = eps_dec,\n",
    "    batch_size = batch_size, \n",
    "    memory_size = memory_size,\n",
    "    gamma = gamma,\n",
    "    targetUpdateInterval=target_update_interval\n",
    ")"
   ]
  },
  {
   "cell_type": "code",
   "execution_count": null,
   "metadata": {},
   "outputs": [],
   "source": [
    "# load agent from checkpoint\n",
    "agent.loadCheckpoint(f'connect4-10000-9070')"
   ]
  },
  {
   "cell_type": "code",
   "execution_count": 5,
   "metadata": {},
   "outputs": [
    {
     "name": "stdout",
     "output_type": "stream",
     "text": [
      "[14:58:21] 270000 games\n",
      "Average loss (last 5000): 0.009917308277450501, last: 0.00943911075592041, epsilon: 0.01\n",
      "Checkpoint 'connect4-270000' saved.\n",
      "[14:58:21] Validation:\n",
      "Validation with 0% random moves for 1000 games per player.\n",
      "Player 1: 997 won, 3 lost, 0 draws -> 99.70%, div: 84.70%\n",
      "Player 2: 993 won, 7 lost, 0 draws -> 99.30%, div: 99.20%\n",
      "[15:06:18] 275000 games\n",
      "Average loss (last 5000): 0.010166908929031342, last: 0.008420916274189949, epsilon: 0.01\n",
      "Checkpoint 'connect4-275000' saved.\n",
      "[15:06:18] Validation:\n",
      "Validation with 0% random moves for 1000 games per player.\n",
      "Player 1: 1000 won, 0 lost, 0 draws -> 100.00%, div: 83.40%\n",
      "Player 2: 995 won, 4 lost, 1 draws -> 99.50%, div: 98.70%\n",
      "[15:13:25] 280000 games\n",
      "Average loss (last 5000): 0.009880946130212396, last: 0.013797072693705559, epsilon: 0.01\n",
      "Checkpoint 'connect4-280000' saved.\n",
      "[15:13:25] Validation:\n",
      "Validation with 0% random moves for 1000 games per player.\n",
      "Player 1: 998 won, 2 lost, 0 draws -> 99.80%, div: 77.20%\n",
      "Player 2: 996 won, 4 lost, 0 draws -> 99.60%, div: 98.60%\n"
     ]
    },
    {
     "ename": "",
     "evalue": "",
     "output_type": "error",
     "traceback": [
      "\u001b[1;31mThe Kernel crashed while executing code in the current cell or a previous cell. \n",
      "\u001b[1;31mPlease review the code in the cell(s) to identify a possible cause of the failure. \n",
      "\u001b[1;31mClick <a href='https://aka.ms/vscodeJupyterKernelCrash'>here</a> for more info. \n",
      "\u001b[1;31mView Jupyter <a href='command:jupyter.viewOutput'>log</a> for further details."
     ]
    }
   ],
   "source": [
    "#\n",
    "# TRAINING\n",
    "#\n",
    "gamesToGo = 500000\n",
    "\n",
    "log_interval = 5000\n",
    "\n",
    "validation_interval = 5000\n",
    "validation_games = 1000\n",
    "omega = 0\n",
    "\n",
    "log(f\"Starting training for {gamesToGo} games.\")\n",
    "\n",
    "for game in range(gamesToGo):\n",
    "    env = Connect4Board()\n",
    "        \n",
    "    next_state = createStateTensor(env)\n",
    "    \n",
    "    while not env.Finished:\n",
    "        state = next_state\n",
    "        action = agent.getTrainingAction(state, env.ValidMovesMask)\n",
    "        env.move(action)\n",
    "        next_state = createStateTensor(env)\n",
    "        reward = calculateReward(env)\n",
    "        agent.store_transition(state, action, next_state, env.ValidMovesMask, env.Finished, reward)\n",
    "\n",
    "    agent.learn()\n",
    "\n",
    "    if game % log_interval == 0:\n",
    "        log(f'{game} games')\n",
    "        agent.printStats()\n",
    "    if game % validation_interval == 0:\n",
    "        agent.saveCheckpoint(f'connect4-{game}')\n",
    "        log(f'Validation:')\n",
    "        validate(agent, validation_games, omega)"
   ]
  },
  {
   "cell_type": "markdown",
   "metadata": {},
   "source": [
    "265000: 100.00 99.70"
   ]
  }
 ],
 "metadata": {
  "kernelspec": {
   "display_name": "Python 3",
   "language": "python",
   "name": "python3"
  },
  "language_info": {
   "codemirror_mode": {
    "name": "ipython",
    "version": 3
   },
   "file_extension": ".py",
   "mimetype": "text/x-python",
   "name": "python",
   "nbconvert_exporter": "python",
   "pygments_lexer": "ipython3",
   "version": "3.12.3"
  },
  "orig_nbformat": 4
 },
 "nbformat": 4,
 "nbformat_minor": 2
}
