{
 "cells": [
  {
   "cell_type": "code",
   "execution_count": null,
   "metadata": {},
   "outputs": [],
   "source": [
    "import sys\n",
    "sys.path.append('../')\n",
    "import datetime\n",
    "\n",
    "import torch as T\n",
    "\n",
    "from board import Connect4Board\n",
    "from board2dqn import createStateTensor\n",
    "from agent import Connect4Agent, calculateReward\n",
    "from validation import validate\n",
    "from dqn import exportOnnx\n",
    "\n",
    "def log(message):\n",
    "    print(f\"[{datetime.datetime.now().strftime('%H:%M:%S')}] {message}\")"
   ]
  },
  {
   "cell_type": "code",
   "execution_count": null,
   "metadata": {},
   "outputs": [],
   "source": [
    "#\n",
    "# Hyper parameters\n",
    "# \n",
    "lr = 0.1\n",
    "gamma = 0.9\n",
    "epsilon = 0.5\n",
    "eps_min = 0.2\n",
    "eps_dec = 1e-6\n",
    "batch_count = 4\n",
    "batch_size = 256\n",
    "memory_size = 128000\n",
    "\n",
    "target_update_interval = 16"
   ]
  },
  {
   "cell_type": "code",
   "execution_count": null,
   "metadata": {},
   "outputs": [],
   "source": [
    "agent = Connect4Agent(\n",
    "    lr = lr, \n",
    "    epsilon = epsilon, \n",
    "    epsilon_end = eps_min, \n",
    "    epsilon_decay = eps_dec,\n",
    "    batch_size = batch_size, \n",
    "    batch_count = batch_count,\n",
    "    memory_size = memory_size,\n",
    "    gamma = gamma,\n",
    "    targetUpdateInterval=target_update_interval\n",
    ")"
   ]
  },
  {
   "cell_type": "code",
   "execution_count": null,
   "metadata": {},
   "outputs": [],
   "source": [
    "# load agent from checkpoint\n",
    "agent.loadCheckpoint(f'connect4')"
   ]
  },
  {
   "cell_type": "code",
   "execution_count": null,
   "metadata": {},
   "outputs": [],
   "source": [
    "#\n",
    "# TRAINING\n",
    "#\n",
    "gamesToGo = 500000\n",
    "\n",
    "log_interval = 5000\n",
    "\n",
    "validation_interval = 20000\n",
    "validation_gamesPerPlayer = 1000\n",
    "validation_procsPerPlayer = 8\n",
    "validation_strength = 100\n",
    "\n",
    "lastLoggedGame = 0\n",
    "games = set()\n",
    "allGames = set()\n",
    "\n",
    "log(f\"Starting training for {gamesToGo} games.\")\n",
    "\n",
    "for game in range(1, gamesToGo+1):\n",
    "    env = Connect4Board()\n",
    "        \n",
    "    next_state = createStateTensor(env)\n",
    "    \n",
    "    while not env.Finished:\n",
    "        state = next_state\n",
    "        validMoves = [a for a in range(7) if env.is_valid(a)]\n",
    "        action = agent.getTrainingAction(state, validMoves)\n",
    "        env.move(action)\n",
    "        next_state = createStateTensor(env)\n",
    "        validMovesMask = T.zeros(7, dtype=bool)\n",
    "        validMovesMask[validMoves] = True\n",
    "        reward = calculateReward(env)\n",
    "        agent.store_transition(state, action, next_state, validMovesMask, env.Finished, reward)\n",
    "\n",
    "    games.add(env.gameKey)\n",
    "    allGames.add(env.gameKey)\n",
    "    \n",
    "    agent.learn()\n",
    "\n",
    "    if game % log_interval == 0:\n",
    "        log(f'{game} games, div: {100*len(games)/(game+1-lastLoggedGame):.2f} / {100*len(allGames)/(game+1):.2f}')\n",
    "        games.clear()\n",
    "        lastLoggedGame = game\n",
    "        agent.printStats()\n",
    "    if game % validation_interval == 0:\n",
    "        agent.saveCheckpoint(f'connect4-{game}')\n",
    "        log(f'Validation:')\n",
    "        validate(agent.evaluationModel, validation_gamesPerPlayer, validation_procsPerPlayer, validation_strength)"
   ]
  },
  {
   "cell_type": "code",
   "execution_count": null,
   "metadata": {},
   "outputs": [],
   "source": [
    "validate(agent.evaluationModel, 1000, 8, 100)"
   ]
  },
  {
   "cell_type": "code",
   "execution_count": null,
   "metadata": {},
   "outputs": [],
   "source": [
    "exportOnnx(agent.evaluationModel, 'connect4')"
   ]
  }
 ],
 "metadata": {
  "kernelspec": {
   "display_name": "Python 3",
   "language": "python",
   "name": "python3"
  },
  "language_info": {
   "codemirror_mode": {
    "name": "ipython",
    "version": 3
   },
   "file_extension": ".py",
   "mimetype": "text/x-python",
   "name": "python",
   "nbconvert_exporter": "python",
   "pygments_lexer": "ipython3",
   "version": "3.12.3"
  },
  "orig_nbformat": 4
 },
 "nbformat": 4,
 "nbformat_minor": 2
}
