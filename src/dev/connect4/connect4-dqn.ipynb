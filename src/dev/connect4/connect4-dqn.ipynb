{
 "cells": [
  {
   "cell_type": "code",
   "execution_count": null,
   "metadata": {},
   "outputs": [],
   "source": [
    "import sys\n",
    "sys.path.append('../')\n",
    "import datetime\n",
    "import numpy as np\n",
    "from board import Connect4Board\n",
    "from agent import Connect4Agent, createStateTensor, calculateReward\n",
    "from validation import validate\n",
    "\n",
    "def log(message):\n",
    "    print(f\"[{datetime.datetime.now().strftime('%H:%M:%S')}] {message}\")"
   ]
  },
  {
   "cell_type": "code",
   "execution_count": null,
   "metadata": {},
   "outputs": [],
   "source": [
    "#\n",
    "# Hyper parameters\n",
    "# \n",
    "lr = 0.05\n",
    "gamma = 0.9\n",
    "epsilon = 0.5\n",
    "eps_min = 0.001\n",
    "eps_dec = 1e-5\n",
    "batch_size = 1024\n",
    "memory_size = 256000"
   ]
  },
  {
   "cell_type": "code",
   "execution_count": null,
   "metadata": {},
   "outputs": [],
   "source": [
    "games = 0\n",
    "agent = Connect4Agent(\n",
    "    lr = lr, \n",
    "    epsilon = epsilon, \n",
    "    epsilon_end = eps_min, \n",
    "    epsilon_decay = eps_dec,\n",
    "    batch_size = batch_size, \n",
    "    memory_size = memory_size,\n",
    "    gamma = gamma\n",
    ")\n",
    "agent.numberOfParameters"
   ]
  },
  {
   "cell_type": "code",
   "execution_count": null,
   "metadata": {},
   "outputs": [],
   "source": [
    "# load agent from checkpoint\n",
    "games = 45000\n",
    "agent.loadCheckpoint(f'connect4-{games}')"
   ]
  },
  {
   "cell_type": "code",
   "execution_count": null,
   "metadata": {},
   "outputs": [],
   "source": [
    "#\n",
    "# TRAINING\n",
    "#\n",
    "gamesToGo = 100000\n",
    "\n",
    "log_interval = 5000\n",
    "\n",
    "validation_interval = 5000\n",
    "validation_games = 1000\n",
    "omega = 1\n",
    "\n",
    "log(f\"Starting training at {games} games for {gamesToGo} games.\")\n",
    "\n",
    "for _ in range(gamesToGo):\n",
    "    games += 1\n",
    "    env = Connect4Board()\n",
    "        \n",
    "    next_state = createStateTensor(env)\n",
    "    \n",
    "    while not env.Finished:\n",
    "        state = next_state\n",
    "        action = agent.getTrainingAction(state, env.ValidMovesMask)\n",
    "        env.move(action)\n",
    "        next_state = createStateTensor(env)\n",
    "        reward = calculateReward(env)\n",
    "        agent.store_transition(state, action, next_state, env.ValidMovesMask, env.Finished, reward)\n",
    "\n",
    "    agent.learn()\n",
    "\n",
    "    if games % log_interval == 0:\n",
    "        log(f'{games} games')\n",
    "        agent.printStats()\n",
    "    if games % validation_interval == 0:\n",
    "        agent.saveCheckpoint(f'connect4-{games}')\n",
    "        log(f'Validation:')\n",
    "        validate(agent, validation_games, omega)"
   ]
  }
 ],
 "metadata": {
  "kernelspec": {
   "display_name": "Python 3",
   "language": "python",
   "name": "python3"
  },
  "language_info": {
   "codemirror_mode": {
    "name": "ipython",
    "version": 3
   },
   "file_extension": ".py",
   "mimetype": "text/x-python",
   "name": "python",
   "nbconvert_exporter": "python",
   "pygments_lexer": "ipython3",
   "version": "3.12.3"
  },
  "orig_nbformat": 4
 },
 "nbformat": 4,
 "nbformat_minor": 2
}
