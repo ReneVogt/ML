{
 "cells": [
  {
   "cell_type": "code",
   "execution_count": 1,
   "metadata": {},
   "outputs": [],
   "source": [
    "import sys\n",
    "sys.path.append('../')\n",
    "import datetime\n",
    "import numpy as np\n",
    "from board import Connect4Board\n",
    "from agent import Connect4Agent, createStateTensor, calculateReward\n",
    "from validation import validate\n",
    "from dqn import exportOnnx\n",
    "\n",
    "def log(message):\n",
    "    print(f\"[{datetime.datetime.now().strftime('%H:%M:%S')}] {message}\")"
   ]
  },
  {
   "cell_type": "code",
   "execution_count": 2,
   "metadata": {},
   "outputs": [],
   "source": [
    "#\n",
    "# Hyper parameters\n",
    "# \n",
    "lr = 0.09\n",
    "gamma = 0.9\n",
    "epsilon = 0.1\n",
    "eps_min = 0.1\n",
    "eps_dec = 1e-7\n",
    "batch_size = 256\n",
    "memory_size = 128000\n",
    "\n",
    "target_update_interval = 32"
   ]
  },
  {
   "cell_type": "code",
   "execution_count": 3,
   "metadata": {},
   "outputs": [
    {
     "name": "stdout",
     "output_type": "stream",
     "text": [
      "Agent created, network has 255479 parameters and runs on cpu.\n"
     ]
    }
   ],
   "source": [
    "agent = Connect4Agent(\n",
    "    lr = lr, \n",
    "    epsilon = epsilon, \n",
    "    epsilon_end = eps_min, \n",
    "    epsilon_decay = eps_dec,\n",
    "    batch_size = batch_size, \n",
    "    memory_size = memory_size,\n",
    "    gamma = gamma,\n",
    "    targetUpdateInterval=target_update_interval\n",
    ")"
   ]
  },
  {
   "cell_type": "code",
   "execution_count": 4,
   "metadata": {},
   "outputs": [
    {
     "name": "stdout",
     "output_type": "stream",
     "text": [
      "Loaded checkpoint connect4.\n"
     ]
    }
   ],
   "source": [
    "# load agent from checkpoint\n",
    "agent.loadCheckpoint(f'connect4')"
   ]
  },
  {
   "cell_type": "code",
   "execution_count": null,
   "metadata": {},
   "outputs": [],
   "source": [
    "#\n",
    "# TRAINING\n",
    "#\n",
    "gamesToGo = 500000\n",
    "\n",
    "log_interval = 5000\n",
    "\n",
    "validation_interval = 5000\n",
    "validation_games = 1000\n",
    "omega = 1\n",
    "\n",
    "lastLoggedGame = 0\n",
    "games = set()\n",
    "allGames = set()\n",
    "\n",
    "log(f\"Starting training for {gamesToGo} games.\")\n",
    "\n",
    "for game in range(gamesToGo):\n",
    "    env = Connect4Board()\n",
    "        \n",
    "    next_state = createStateTensor(env)\n",
    "    \n",
    "    while not env.Finished:\n",
    "        state = next_state\n",
    "        action = agent.getTrainingAction(state, env.ValidMovesMask)\n",
    "        env.move(action)\n",
    "        next_state = createStateTensor(env)\n",
    "        reward = calculateReward(env)\n",
    "        agent.store_transition(state, action, next_state, env.ValidMovesMask, env.Finished, reward)\n",
    "\n",
    "    games.add(env.gameKey)\n",
    "    allGames.add(env.gameKey)\n",
    "    agent.learn()\n",
    "\n",
    "    if game % log_interval == 0:\n",
    "        log(f'{game} games, div: {100*len(games)/(game+1-lastLoggedGame):.2f} / {100*len(allGames)/(game+1):.2f}')\n",
    "        games.clear()\n",
    "        lastLoggedGame = game\n",
    "        agent.printStats()\n",
    "    if game % validation_interval == 0:\n",
    "        agent.saveCheckpoint(f'connect4-{game}')\n",
    "        log(f'Validation:')\n",
    "        validate(agent, validation_games, omega)"
   ]
  },
  {
   "cell_type": "code",
   "execution_count": 5,
   "metadata": {},
   "outputs": [],
   "source": [
    "exportOnnx(agent.evaluationModel, \"test\")"
   ]
  }
 ],
 "metadata": {
  "kernelspec": {
   "display_name": "Python 3",
   "language": "python",
   "name": "python3"
  },
  "language_info": {
   "codemirror_mode": {
    "name": "ipython",
    "version": 3
   },
   "file_extension": ".py",
   "mimetype": "text/x-python",
   "name": "python",
   "nbconvert_exporter": "python",
   "pygments_lexer": "ipython3",
   "version": "3.12.3"
  },
  "orig_nbformat": 4
 },
 "nbformat": 4,
 "nbformat_minor": 2
}
