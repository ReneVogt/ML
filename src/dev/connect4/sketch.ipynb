{
 "cells": [
  {
   "cell_type": "code",
   "execution_count": 3,
   "metadata": {},
   "outputs": [],
   "source": [
    "import random\n",
    "import torch\n",
    "import torch.nn as nn\n",
    "import torch.nn.functional as F\n",
    "import importlib\n",
    "from helpers import render\n",
    "import connect4 as connect4\n",
    "import training as training\n",
    "importlib.reload(connect4);\n",
    "importlib.reload(training);\n",
    "from connect4 import Connect4Board\n"
   ]
  },
  {
   "cell_type": "code",
   "execution_count": 8,
   "metadata": {},
   "outputs": [],
   "source": [
    "class Connect4Cnn(nn.Module):\n",
    "    def __init__(self):\n",
    "        super(Connect4Cnn, self).__init__()\n",
    "\n",
    "        self.feature_count = 128\n",
    "        self.feature_size = self.feature_count * 6 * 7\n",
    "\n",
    "        self.conv1 = nn.Conv2d(3, 64,  kernel_size=(2,2), padding=1)    \n",
    "        self.conv2 = nn.Conv2d(64, 128, kernel_size=(2,2), padding=1)\n",
    "        self.out = nn.Linear(self.feature_size, 7)\n",
    "\n",
    "    def forward(self, x):\n",
    "        x = F.dropout2d(F.relu(self.conv1(x)), p = 0.2)\n",
    "        x = F.dropout2d(F.relu(self.conv2(x)), p = 0.2)\n",
    "        x = x.view(-1, self.feature_size)\n",
    "        x = self.out(x)\n",
    "        return x\n"
   ]
  },
  {
   "cell_type": "code",
   "execution_count": 6,
   "metadata": {},
   "outputs": [
    {
     "data": {
      "text/plain": [
       "113287"
      ]
     },
     "execution_count": 6,
     "metadata": {},
     "output_type": "execute_result"
    }
   ],
   "source": [
    "\n",
    "#\n",
    "# Create the model and optimizer\n",
    "# \n",
    "games = 0\n",
    "model = Connect4Cnn()\n",
    "optimizer = torch.optim.SGD(model.parameters(), lr = 0.2)\n",
    "sum(p.numel() for p in model.parameters() if p.requires_grad)\n"
   ]
  },
  {
   "cell_type": "code",
   "execution_count": 7,
   "metadata": {},
   "outputs": [],
   "source": [
    "#\n",
    "# Load model from checkpoint\n",
    "#\n",
    "games = 100000\n",
    "training.loadCheckpoint(model, optimizer, f'connect4-{games}', 0.2)"
   ]
  }
 ],
 "metadata": {
  "kernelspec": {
   "display_name": "Python 3",
   "language": "python",
   "name": "python3"
  },
  "language_info": {
   "codemirror_mode": {
    "name": "ipython",
    "version": 3
   },
   "file_extension": ".py",
   "mimetype": "text/x-python",
   "name": "python",
   "nbconvert_exporter": "python",
   "pygments_lexer": "ipython3",
   "version": "3.12.3"
  },
  "orig_nbformat": 4
 },
 "nbformat": 4,
 "nbformat_minor": 2
}
