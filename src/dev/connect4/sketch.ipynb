{
 "cells": [
  {
   "cell_type": "code",
   "execution_count": 2,
   "metadata": {},
   "outputs": [],
   "source": [
    "import torch\n",
    "import torch.nn as nn\n",
    "import torch.nn.functional as F\n",
    "import importlib\n",
    "from helpers import render\n",
    "import connect4 as connect4\n",
    "import training as training\n",
    "import connect4cnn as connect4cnn\n",
    "import helpers as helpers\n",
    "importlib.reload(connect4);\n",
    "importlib.reload(training);\n",
    "importlib.reload(connect4cnn);\n",
    "importlib.reload(helpers)\n",
    "from connect4 import Connect4Board\n",
    "from connect4cnn import Connect4Cnn\n"
   ]
  },
  {
   "cell_type": "code",
   "execution_count": 12,
   "metadata": {},
   "outputs": [],
   "source": [
    "class MyCnn(nn.Sequential):\n",
    "    def __init__(self):\n",
    "        super(MyCnn, self).__init__(nn.Linear(2, 4), nn.ReLU(), nn.Linear(4, 4), nn.ReLU(), nn.Softmax())\n"
   ]
  },
  {
   "cell_type": "code",
   "execution_count": 14,
   "metadata": {},
   "outputs": [
    {
     "name": "stderr",
     "output_type": "stream",
     "text": [
      "c:\\Program Files\\Python312\\Lib\\site-packages\\torch\\nn\\modules\\module.py:1511: UserWarning: Implicit dimension choice for softmax has been deprecated. Change the call to include dim=X as an argument.\n",
      "  return self._call_impl(*args, **kwargs)\n"
     ]
    },
    {
     "data": {
      "text/plain": [
       "tensor([[0.1890, 0.1890, 0.3009, 0.3211]], grad_fn=<SoftmaxBackward0>)"
      ]
     },
     "execution_count": 14,
     "metadata": {},
     "output_type": "execute_result"
    }
   ],
   "source": [
    "model = MyCnn()\n",
    "t =torch.stack([torch.tensor([1,0], dtype=torch.float32)])\n",
    "model(t)"
   ]
  }
 ],
 "metadata": {
  "kernelspec": {
   "display_name": "Python 3",
   "language": "python",
   "name": "python3"
  },
  "language_info": {
   "codemirror_mode": {
    "name": "ipython",
    "version": 3
   },
   "file_extension": ".py",
   "mimetype": "text/x-python",
   "name": "python",
   "nbconvert_exporter": "python",
   "pygments_lexer": "ipython3",
   "version": "3.12.3"
  },
  "orig_nbformat": 4
 },
 "nbformat": 4,
 "nbformat_minor": 2
}
