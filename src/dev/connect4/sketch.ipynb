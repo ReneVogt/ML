{
 "cells": [
  {
   "cell_type": "code",
   "execution_count": 37,
   "metadata": {},
   "outputs": [],
   "source": [
    "import random\n",
    "import torch\n",
    "import torch.nn\n",
    "import torch.nn.functional as F\n",
    "import importlib\n",
    "from helpers import render\n",
    "import connect4 as connect4\n",
    "importlib.reload(connect4);\n",
    "from connect4 import Connect4Board\n"
   ]
  },
  {
   "cell_type": "code",
   "execution_count": 38,
   "metadata": {},
   "outputs": [
    {
     "name": "stdout",
     "output_type": "stream",
     "text": [
      "╔═══╤═══╤═══╤═══╤═══╤═══╤═══╗\n",
      "║   │   │   │   │   │   │   ║\n",
      "╟───┼───┼───┼───┼───┼───┼───╢\n",
      "║   │   │   │   │   │   │   ║\n",
      "╟───┼───┼───┼───┼───┼───┼───╢\n",
      "║   │   │   │ X │   │   │   ║\n",
      "╟───┼───┼───┼───┼───┼───┼───╢\n",
      "║   │   │ X │ O │   │   │   ║\n",
      "╟───┼───┼───┼───┼───┼───┼───╢\n",
      "║   │ X │ O │ X │   │   │   ║\n",
      "╟───┼───┼───┼───┼───┼───┼───╢\n",
      "║ X │ O │ O │ X │   │   │ O ║\n",
      "╚═══╧═══╧═══╧═══╧═══╧═══╧═══╝\n"
     ]
    },
    {
     "data": {
      "text/plain": [
       "(2, 1)"
      ]
     },
     "execution_count": 38,
     "metadata": {},
     "output_type": "execute_result"
    }
   ],
   "source": [
    "env = Connect4Board()\n",
    "for action in [3, 1, 1, 2, 3, 2, 2, 3, 3, 6, 0]:\n",
    "    env.move(action)\n",
    "render(env)\n",
    "env.Player, env.Winner"
   ]
  },
  {
   "cell_type": "code",
   "execution_count": 36,
   "metadata": {},
   "outputs": [
    {
     "data": {
      "text/plain": [
       "5"
      ]
     },
     "execution_count": 36,
     "metadata": {},
     "output_type": "execute_result"
    }
   ],
   "source": [
    "len('abecd')\n"
   ]
  }
 ],
 "metadata": {
  "kernelspec": {
   "display_name": "Python 3",
   "language": "python",
   "name": "python3"
  },
  "language_info": {
   "codemirror_mode": {
    "name": "ipython",
    "version": 3
   },
   "file_extension": ".py",
   "mimetype": "text/x-python",
   "name": "python",
   "nbconvert_exporter": "python",
   "pygments_lexer": "ipython3",
   "version": "3.12.3"
  },
  "orig_nbformat": 4
 },
 "nbformat": 4,
 "nbformat_minor": 2
}
