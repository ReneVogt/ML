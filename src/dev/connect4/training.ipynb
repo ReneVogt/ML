{
 "cells": [
  {
   "cell_type": "code",
   "execution_count": 65,
   "metadata": {},
   "outputs": [],
   "source": [
    "import torch\n",
    "import torch.nn as nn\n",
    "import torch.nn.functional as F\n",
    "import importlib\n",
    "import training as training\n",
    "import connect4cnn as connect4cnn\n",
    "importlib.reload(training);\n",
    "importlib.reload(connect4cnn)\n",
    "from connect4cnn import Connect4Cnn\n"
   ]
  },
  {
   "cell_type": "code",
   "execution_count": 66,
   "metadata": {},
   "outputs": [],
   "source": [
    "#\n",
    "# Hyper parameter\n",
    "#\n",
    "gamma = 0.9 # Q-learning's discount factor, should probably stay constant at 0.9\n",
    "learning_rate = 0.1 # initial learning rate\n",
    "actual_learning_rate = 0.1 # used to reset optimizers from file\n",
    "epsilon = 0.01\n",
    "validation_games = 5000\n",
    "omega = 1 # the percentage of opponent random moves during validation\n"
   ]
  },
  {
   "cell_type": "code",
   "execution_count": 69,
   "metadata": {},
   "outputs": [
    {
     "data": {
      "text/plain": [
       "34439"
      ]
     },
     "execution_count": 69,
     "metadata": {},
     "output_type": "execute_result"
    }
   ],
   "source": [
    "\n",
    "#\n",
    "# Create the model and optimizer\n",
    "# \n",
    "games = 0\n",
    "model = Connect4Cnn()\n",
    "optimizer = torch.optim.SGD(model.parameters(), lr = learning_rate)\n",
    "sum(p.numel() for p in model.parameters() if p.requires_grad)"
   ]
  },
  {
   "cell_type": "code",
   "execution_count": null,
   "metadata": {},
   "outputs": [],
   "source": [
    "#\n",
    "# Load model from checkpoint\n",
    "#\n",
    "games = 1000000\n",
    "training.loadCheckpoint(model, optimizer, f'connect4-{games}', actual_learning_rate)"
   ]
  },
  {
   "cell_type": "code",
   "execution_count": null,
   "metadata": {},
   "outputs": [],
   "source": [
    "#\n",
    "# TRAINING\n",
    "#\n",
    "gamesToGo = 500000\n",
    "training.train(model, optimizer, gamesToGo, epsilon, omega, gameOffset = games, gamma = gamma)\n",
    "games += gamesToGo"
   ]
  },
  {
   "cell_type": "markdown",
   "metadata": {},
   "source": [
    "### Connect4 CNN training \n",
    "optimizer: SGD initial lr: 0.1  \n",
    "validation 10000 games against normalized softmax moves and &omega; random moves  \n",
    "exploration via normalized softmax and &epsilon;  \n",
    "loss over last 50.000 games\n",
    "\n",
    "| Games     | lr        | &epsilon; | Loss                  | &omega;   |Cross      | Circle    | Remarks\n",
    "| :-------: | :-:       | :---:     | :-----------:         | :----:    |:----:     | :-----:   | :-------:\n",
    "|           | 0.1       | 0.01      |                       | 1         | 84.32%    | 76.64%    |\n",
    "| 50.000    |           |           |                       |           |           |           |\n",
    "| 100.000   |           |           |                       |           |           |           |\n",
    "| 150.000   |           |           |                       |           |           |           |\n",
    "| 200.000   |           |           |                       |           |           |           |\n",
    "| 250.000   |           |           |                       |           |           |           |\n",
    "| 300.000   |           |           |                       |           |           |           |\n",
    "| 350.000   |           |           |                       |           |           |           |\n",
    "| 400.000   |           |           |                       |           |           |           |\n",
    "| 450.000   |           |           |                       |           |           |           |\n",
    "| 500.000   |           |           |                       |           |           |           |\n",
    "| 550.000   |           |           |                       |           |           |           |\n",
    "| 600.000   |           |           |                       |           |           |           |\n",
    "| 650.000   |           |           |                       |           |           |           |\n",
    "| 700.000   |           |           |                       |           |           |           |\n",
    "| 750.000   |           |           |                       |           |           |           |\n",
    "| 800.000   |           |           |                       |           |           |           |\n",
    "| 850.000   |           |           |                       |           |           |           |\n",
    "| 900.000   |           |           |                       |           |           |           |\n",
    "| 950.000   |           |           |                       |           |           |           |\n",
    "| 1.000.000 |           |           |                       |           |           |           |\n"
   ]
  }
 ],
 "metadata": {
  "kernelspec": {
   "display_name": "Python 3",
   "language": "python",
   "name": "python3"
  },
  "language_info": {
   "codemirror_mode": {
    "name": "ipython",
    "version": 3
   },
   "file_extension": ".py",
   "mimetype": "text/x-python",
   "name": "python",
   "nbconvert_exporter": "python",
   "pygments_lexer": "ipython3",
   "version": "3.12.3"
  },
  "orig_nbformat": 4
 },
 "nbformat": 4,
 "nbformat_minor": 2
}
