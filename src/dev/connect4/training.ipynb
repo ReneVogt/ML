{
 "cells": [
  {
   "cell_type": "code",
   "execution_count": 103,
   "metadata": {},
   "outputs": [],
   "source": [
    "import torch\n",
    "import torch.nn as nn\n",
    "import torch.nn.functional as F\n",
    "import importlib\n",
    "import training as training\n",
    "importlib.reload(training);\n"
   ]
  },
  {
   "cell_type": "code",
   "execution_count": 104,
   "metadata": {},
   "outputs": [],
   "source": [
    "#\n",
    "# Hyper parameter\n",
    "#\n",
    "gamma = 0.9 # Q-learning's discount factor, should probably stay constant at 0.9\n",
    "learning_rate = 0.1 # initial learning rate\n",
    "actual_learning_rate = 0.1 # used to reset optimizers from file\n",
    "epsilon = 0.01\n",
    "validation_games = 5000\n",
    "omega = 1 # the percentage of opponent random moves during validation\n"
   ]
  },
  {
   "cell_type": "code",
   "execution_count": 105,
   "metadata": {},
   "outputs": [],
   "source": [
    "class Connect4Cnn(nn.Module):\n",
    "    def __init__(self):\n",
    "        super(Connect4Cnn, self).__init__()\n",
    "\n",
    "        self.feature_size = 32 * 6 * 7\n",
    "\n",
    "        self.conv1 = nn.Conv2d(1, 16,  kernel_size=3, padding=1)\n",
    "        self.conv2 = nn.Conv2d(16, 32, kernel_size=3, padding=1)\n",
    "        self.out = nn.Linear(self.feature_size, 7)\n",
    "\n",
    "    def forward(self, x):\n",
    "        x = F.relu(self.conv1(x))\n",
    "        if self.training:\n",
    "            x = F.dropout2d(x, p = 0.2)\n",
    "        x = F.relu(self.conv2(x))\n",
    "        if self.training:\n",
    "            x = F.dropout2d(x, p = 0.2)\n",
    "        x = x.view(-1, self.feature_size)\n",
    "        x = self.out(x)\n",
    "        return x\n"
   ]
  },
  {
   "cell_type": "code",
   "execution_count": 106,
   "metadata": {},
   "outputs": [
    {
     "data": {
      "text/plain": [
       "14215"
      ]
     },
     "execution_count": 106,
     "metadata": {},
     "output_type": "execute_result"
    }
   ],
   "source": [
    "\n",
    "#\n",
    "# Create the model and optimizer\n",
    "# \n",
    "games = 0\n",
    "model = Connect4Cnn()\n",
    "optimizer = torch.optim.SGD(model.parameters(), lr = learning_rate)\n",
    "sum(p.numel() for p in model.parameters() if p.requires_grad)"
   ]
  },
  {
   "cell_type": "code",
   "execution_count": 93,
   "metadata": {},
   "outputs": [],
   "source": [
    "#\n",
    "# Load model from checkpoint\n",
    "#\n",
    "games = 300000\n",
    "training.loadCheckpoint(model, optimizer, f'connect4-{games}', actual_learning_rate)"
   ]
  },
  {
   "cell_type": "code",
   "execution_count": null,
   "metadata": {},
   "outputs": [],
   "source": [
    "#\n",
    "# TRAINING\n",
    "#\n",
    "gamesToGo = 300000\n",
    "training.train(model, optimizer, gamesToGo, epsilon, omega, gameOffset = games, gamma = gamma)\n",
    "games += gamesToGo"
   ]
  },
  {
   "cell_type": "markdown",
   "metadata": {},
   "source": [
    "### Connect4 CNN training \n",
    "#### Layers: C3/16-RL-D0.2-C3/32-RL-D0.2\n",
    "optimizer: SGD initial lr: 0.1  \n",
    "validation 10000 games against normalized softmax moves and &omega; random moves  \n",
    "exploration via normalized softmax and &epsilon;  \n",
    "loss over last 50.000 games\n",
    "\n",
    "| Games     | lr        | &epsilon; | Loss                  | &omega;   |Cross      | Circle    | Remarks\n",
    "| :-------: | :-:       | :---:     | :-----------:         | :----:    |:----:     | :-----:   | :-------:\n",
    "|           | 0.1       | 0.01      |                       | 1         | 76.14%    | 70.90%    |\n",
    "| 50.000    |           |           |                       |           |           |           |\n",
    "| 100.000   |           |           |                       |           |           |           |\n",
    "| 150.000   |           |           |                       |           |           |           |\n",
    "| 200.000   |           |           |                       |           |           |           |\n",
    "| 250.000   |           |           |                       |           |           |           |\n",
    "| 300.000   |           |           | |           | ||"
   ]
  }
 ],
 "metadata": {
  "kernelspec": {
   "display_name": "Python 3",
   "language": "python",
   "name": "python3"
  },
  "language_info": {
   "codemirror_mode": {
    "name": "ipython",
    "version": 3
   },
   "file_extension": ".py",
   "mimetype": "text/x-python",
   "name": "python",
   "nbconvert_exporter": "python",
   "pygments_lexer": "ipython3",
   "version": "3.12.3"
  },
  "orig_nbformat": 4
 },
 "nbformat": 4,
 "nbformat_minor": 2
}
