{
 "cells": [
  {
   "cell_type": "code",
   "execution_count": 8,
   "metadata": {},
   "outputs": [],
   "source": [
    "import torch\n",
    "import torch.nn as nn\n",
    "import torch.nn.functional as F\n",
    "import importlib\n",
    "import training as training\n",
    "import connect4cnn as connect4cnn\n",
    "importlib.reload(training);\n",
    "importlib.reload(connect4cnn)\n",
    "from connect4cnn import Connect4Cnn\n"
   ]
  },
  {
   "cell_type": "code",
   "execution_count": 2,
   "metadata": {},
   "outputs": [],
   "source": [
    "#\n",
    "# Hyper parameter\n",
    "#\n",
    "gamma = 0.9 # Q-learning's discount factor, should probably stay constant at 0.9\n",
    "learning_rate = 0.01 # initial learning rate\n",
    "actual_learning_rate = 0.01 # used to reset optimizers from file\n",
    "epsilon = 0.01\n",
    "validation_games = 5000\n",
    "omega = 1 # the percentage of opponent random moves during validation\n"
   ]
  },
  {
   "cell_type": "code",
   "execution_count": 3,
   "metadata": {},
   "outputs": [
    {
     "data": {
      "text/plain": [
       "244487"
      ]
     },
     "execution_count": 3,
     "metadata": {},
     "output_type": "execute_result"
    }
   ],
   "source": [
    "\n",
    "#\n",
    "# Create the model and optimizer\n",
    "# \n",
    "games = 0\n",
    "model = Connect4Cnn()\n",
    "optimizer = torch.optim.SGD(model.parameters(), lr = learning_rate)\n",
    "sum(p.numel() for p in model.parameters() if p.requires_grad)"
   ]
  },
  {
   "cell_type": "code",
   "execution_count": 4,
   "metadata": {},
   "outputs": [],
   "source": [
    "#\n",
    "# Load model from checkpoint\n",
    "#\n",
    "games = 1000000\n",
    "training.loadCheckpoint(model, optimizer, f'connect4-{games}', actual_learning_rate)"
   ]
  },
  {
   "cell_type": "code",
   "execution_count": null,
   "metadata": {},
   "outputs": [],
   "source": [
    "#\n",
    "# TRAINING\n",
    "#\n",
    "gamesToGo = 500000\n",
    "training.train(model, optimizer, gamesToGo, epsilon, omega, gameOffset = games, gamma = gamma)\n",
    "games += gamesToGo"
   ]
  },
  {
   "cell_type": "markdown",
   "metadata": {},
   "source": [
    "### Connect4 CNN training \n",
    "#### Layers: C64-C128-P2/1-C128-P2/1\n",
    "optimizer: SGD initial lr: 0.01  \n",
    "validation 10000 games against normalized softmax moves and &omega; random moves  \n",
    "exploration via normalized softmax and &epsilon;  \n",
    "loss over last 50.000 games\n",
    "\n",
    "| Games     | lr        | &epsilon; | Loss                  | &omega;   |Cross      | Circle    | Remarks\n",
    "| :-------: | :-:       | :---:     | :-----------:         | :----:    |:----:     | :-----:   | :-------:\n",
    "|           | 0.01      | 0.01      |                       | 1         | 87.94%    | 78.86%    |\n",
    "| 50.000    |           |           | 0.015758221467523835  |           | 96.16%    | 93.56%    |\n",
    "| 100.000   |           |           | 0.011589428953352762  |           | 99.46%    | 98.06%    |\n",
    "| 150.000   |           |           | 0.009629916073209097  |           | 99.62%    | 98.06%    | \n",
    "| 200.000   |           |           | 0.008917801845750037  |           | 99.74%    | 98.92%    |\n",
    "| 250.000   |           |           | 0.008638794834900126  |           | 99.66%    | 98.86%    |\n",
    "| 300.000   |           |           | 0.008321861519028006  |           | 99.74%    | 99.10%    |\n",
    "| 350.000   |           |           | 0.008074597970579352  |           | 99.84%    | 99.04%    |\n",
    "| 400.000   |           |           | 0.007874082113285257  |           | 99.78%    | 99.58%    |\n",
    "| 450.000   |           |           | 0.007648168640614303  |           | 99.82%    | 99.26%    |\n",
    "| 500.000   |           |           | 0.00745036941245753   |           | 99.84%    | 99.60%    |\n",
    "| 550.000   |           |           | 0.007112492493568134  |           | 99.88%    | 99.50%    |\n",
    "| 600.000   |           |           | 0.00682966207332689   |           | 99.96%    | 99.60%    |\n",
    "| 650.000   |           |           | 0.006467445320635861  |           | 99.96%    | 99.56%    |\n",
    "| 700.000   |           |           | 0.006305591097399774  |           | 99.98%    | 99.74%    |\n",
    "| 750.000   |           |           | 0.006043971638668627  |           | 99.96%    | 99.80%    |\n",
    "| 800.000   |           |           | 0.00682966207332689   |           | 99.96%    | 99.60%    |\n",
    "| 850.000   |           |           | 0.005662222434448868  |           | 99.98%    | 99.86%    |\n",
    "| 900.000   |           |           | 0.005508421725580128  |           | 99.92%    | 99.88%    |\n",
    "| 950.000   |           |           | 0.005368859568469625  |           | 99.96%    | 99.86%    |\n",
    "| 1.000.000 |           |           | 0.005204164923570288  |           | 99.96%    | 99.80%    |\n"
   ]
  },
  {
   "cell_type": "code",
   "execution_count": null,
   "metadata": {},
   "outputs": [],
   "source": [
    "training.validate(model, validation_games, omega)"
   ]
  }
 ],
 "metadata": {
  "kernelspec": {
   "display_name": "Python 3",
   "language": "python",
   "name": "python3"
  },
  "language_info": {
   "codemirror_mode": {
    "name": "ipython",
    "version": 3
   },
   "file_extension": ".py",
   "mimetype": "text/x-python",
   "name": "python",
   "nbconvert_exporter": "python",
   "pygments_lexer": "ipython3",
   "version": "3.12.3"
  },
  "orig_nbformat": 4
 },
 "nbformat": 4,
 "nbformat_minor": 2
}
