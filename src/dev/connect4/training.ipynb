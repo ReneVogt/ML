{
 "cells": [
  {
   "cell_type": "code",
   "execution_count": 58,
   "metadata": {},
   "outputs": [],
   "source": [
    "import torch\n",
    "import torch.nn as nn\n",
    "import torch.nn.functional as F\n",
    "import importlib\n",
    "import training as training\n",
    "importlib.reload(training);\n"
   ]
  },
  {
   "cell_type": "code",
   "execution_count": 59,
   "metadata": {},
   "outputs": [],
   "source": [
    "#\n",
    "# Hyper parameter\n",
    "#\n",
    "gamma = 0.9 # Q-learning's discount factor, should probably stay constant at 0.9\n",
    "learning_rate = 0.1 # initial learning rate\n",
    "actual_learning_rate = 0.1 # used to reset optimizers from file\n",
    "epsilon = 0.5\n",
    "validation_games = 5000\n",
    "omega = 1 # the percentage of opponent random moves during validation\n"
   ]
  },
  {
   "cell_type": "code",
   "execution_count": 42,
   "metadata": {},
   "outputs": [
    {
     "data": {
      "text/plain": [
       "260871"
      ]
     },
     "execution_count": 42,
     "metadata": {},
     "output_type": "execute_result"
    }
   ],
   "source": [
    "class Connect4CnnV1(nn.Module):\n",
    "    def __init__(self):\n",
    "        super(Connect4CnnV1, self).__init__()\n",
    "\n",
    "        self.feature_count = 128\n",
    "        self.feature_size = self.feature_count * 6 * 7\n",
    "\n",
    "        self.conv1 = nn.Conv2d(3, 64,  kernel_size=3, padding=1)    \n",
    "        self.conv2 = nn.Conv2d(64, 128, kernel_size=3, padding=1)\n",
    "        self.conv3 = nn.Conv2d(128, self.feature_count, kernel_size=3, padding=1)\n",
    "        self.out = nn.Linear(self.feature_size, 7)\n",
    "\n",
    "    def forward(self, x):\n",
    "        x = F.relu(self.conv1(x))\n",
    "        x = F.relu(self.conv2(x))\n",
    "        x = F.relu(self.conv3(x))\n",
    "        x = x.view(-1, self.feature_size)\n",
    "        x = self.out(x)\n",
    "        return x\n"
   ]
  },
  {
   "cell_type": "code",
   "execution_count": 60,
   "metadata": {},
   "outputs": [],
   "source": [
    "class Connect4Cnn(nn.Module):\n",
    "    def __init__(self):\n",
    "        super(Connect4Cnn, self).__init__()\n",
    "\n",
    "        self.feature_count = 128\n",
    "        self.feature_size = self.feature_count * 6 * 7\n",
    "\n",
    "        self.conv1 = nn.Conv2d(3, 64,  kernel_size=3, padding=1)    \n",
    "        self.relu1 = nn.ReLU()\n",
    "        self.dropout1 = nn.Dropout2d(p = 0.25)\n",
    "        self.conv2 = nn.Conv2d(64, 128, kernel_size=3, padding=1)\n",
    "        self.relu2 = nn.ReLU()\n",
    "        self.dropout2 = nn.Dropout2d(p = 0.25)\n",
    "        self.out = nn.Linear(self.feature_size, 7)\n",
    "\n",
    "    def forward(self, x):\n",
    "        x = self.conv1(x)\n",
    "        x = self.relu1(x)\n",
    "        x = self.dropout1(x)\n",
    "        x = self.conv2(x)\n",
    "        x = self.relu2(x)\n",
    "        x = self.dropout2(x)\n",
    "        x = x.view(-1, self.feature_size)\n",
    "        x = self.out(x)\n",
    "        return x\n"
   ]
  },
  {
   "cell_type": "code",
   "execution_count": 61,
   "metadata": {},
   "outputs": [
    {
     "data": {
      "text/plain": [
       "113287"
      ]
     },
     "execution_count": 61,
     "metadata": {},
     "output_type": "execute_result"
    }
   ],
   "source": [
    "\n",
    "#\n",
    "# Create the model and optimizer\n",
    "# \n",
    "games = 0\n",
    "model = Connect4Cnn()\n",
    "optimizer = torch.optim.SGD(model.parameters(), lr = learning_rate)\n",
    "sum(p.numel() for p in model.parameters() if p.requires_grad)"
   ]
  },
  {
   "cell_type": "code",
   "execution_count": 40,
   "metadata": {},
   "outputs": [],
   "source": [
    "#\n",
    "# Load model from checkpoint\n",
    "#\n",
    "games = 300000\n",
    "training.loadCheckpoint(model, optimizer, f'connect4-{games}', actual_learning_rate)"
   ]
  },
  {
   "cell_type": "code",
   "execution_count": 324,
   "metadata": {},
   "outputs": [],
   "source": [
    "for g in optimizer.param_groups:\n",
    "    g['lr'] = actual_learning_rate"
   ]
  },
  {
   "cell_type": "code",
   "execution_count": null,
   "metadata": {},
   "outputs": [],
   "source": [
    "#\n",
    "# TRAINING\n",
    "#\n",
    "gamesToGo = 300000\n",
    "training.train(model, optimizer, gamesToGo, epsilon, omega, gameOffset = games, gamma = gamma)\n",
    "games += gamesToGo"
   ]
  },
  {
   "cell_type": "markdown",
   "metadata": {},
   "source": [
    "### Connect4 CNN training \n",
    "#### Layers: C64-RL-D0.25-C128-RL-D0.25\n",
    "optimizer: SGD initial lr: 0.1  \n",
    "validation 10000 games against normalized softmax moves and &omega; random moves  \n",
    "exploration via normalized softmax and &epsilon;\n",
    "loss over last 50.000 games\n",
    "\n",
    "| Games     | lr        | &epsilon; | Loss                  | &omega;   |Cross      | Circle    | Remarks\n",
    "| :-------: | :-:       | :---:     | :-----------:         | :----:    |:----:     | :-----:   | :-------:\n",
    "|           | 0.1       | 0.5       |                       | 1         | 79.52%    | 70.14%    |\n",
    "\n",
    "\n",
    "#### Layers: C64-C128-C128\n",
    "\n",
    "optimizer: SGD initial lr: 0.1  \n",
    "validation 10000 games against normalized softmax moves and &omega; random moves  \n",
    "exploration via normalized softmax and &epsilon;\n",
    "loss over last 50.000 games\n",
    "\n",
    "| Games     | lr        | &epsilon; | Loss                  | &omega;   |Cross      | Circle    | Remarks\n",
    "| :-------: | :-:       | :---:     | :-----------:         | :----:    |:----:     | :-----:   | :-------:\n",
    "| 300.000   | 0.1       | 0.001     |                       | 0.5       | 97.36%    | 94.48%\n",
    "\n"
   ]
  },
  {
   "cell_type": "markdown",
   "metadata": {},
   "source": [
    "### Archive until 300.000\n",
    "#### Layers: C64-C128-C128\n",
    "optimizer: SGD initial lr: 0.1  \n",
    "validation 10000 games against random moves and &alpha; model moves  \n",
    "exploration via softmax and &epsilon;\n",
    "\n",
    "| Games     | lr    | &epsilon; | Loss                  | &alpha;   |Cross      | Circle     | Remarks\n",
    "| :-------: | :-:   | :---:     | :-----------:         | :----:    |:----:     | :-----:    | :-------:\n",
    "| 0         | 0.1   | 0.001     | -                     | 0         | 72.16%    | 60.04%     | \n",
    "| 50000     |       |           | 0.00858330437914119   |           | 99.76%    | 99.38%     |\n",
    "| 100000    |       |           |  0.005832810262491694 |           | 99.96%    | 99.50%\n",
    "| 150000    |       |           | 0.004442700849651191  |           | 99.98%    | 99.82%\n",
    "| 200000    |       |           | 0.0038484052923500713 |           | 99.96%    | 99.96%\n",
    "| 250000    |       |           | 0.0034724944925486854 |           | 100.00%   | 99.98% \n",
    "| 300000    |       |           | 0.0033271235034726485 |           | 100.00%   | 100.00%\n",
    "|           |       |           |                       | 0.5       | 97.36%    | 94.48%\n",
    "\n"
   ]
  }
 ],
 "metadata": {
  "kernelspec": {
   "display_name": "Python 3",
   "language": "python",
   "name": "python3"
  },
  "language_info": {
   "codemirror_mode": {
    "name": "ipython",
    "version": 3
   },
   "file_extension": ".py",
   "mimetype": "text/x-python",
   "name": "python",
   "nbconvert_exporter": "python",
   "pygments_lexer": "ipython3",
   "version": "3.12.3"
  },
  "orig_nbformat": 4
 },
 "nbformat": 4,
 "nbformat_minor": 2
}
