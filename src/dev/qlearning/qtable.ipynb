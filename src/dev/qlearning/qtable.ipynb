{
 "cells": [
  {
   "cell_type": "code",
   "execution_count": 29,
   "metadata": {},
   "outputs": [],
   "source": [
    "import random\n",
    "import importlib\n",
    "import tictactoe\n",
    "importlib.reload(tictactoe);\n",
    "from tictactoe import TicTacToe\n"
   ]
  },
  {
   "cell_type": "code",
   "execution_count": 30,
   "metadata": {},
   "outputs": [],
   "source": [
    "#\n",
    "# Hyper parameters\n",
    "# \n",
    "alpha = 0.2\n",
    "gamma = 0.9\n",
    "epsilon = 0.3"
   ]
  },
  {
   "cell_type": "code",
   "execution_count": 27,
   "metadata": {},
   "outputs": [],
   "source": [
    "Q = {}\n",
    "games = 0"
   ]
  },
  {
   "cell_type": "code",
   "execution_count": 32,
   "metadata": {},
   "outputs": [],
   "source": [
    "#\n",
    "#validation\n",
    "#\n",
    "def validate(iterations):\n",
    "    wins = 0\n",
    "    draws = 0\n",
    "    losses = 0\n",
    "    for _ in range(iterations):\n",
    "        env = TicTacToe()\n",
    "        qplayer = random.choice([env.player, env.opponent])\n",
    "        done = False\n",
    "        while not done:\n",
    "            state = env.state\n",
    "            if qplayer == env.player:\n",
    "                action = max([a for a in range(9) if env.is_valid(a)], key = lambda x: Q.get((state, x), 0))\n",
    "            else:\n",
    "                action = random.choice([a for a in range(9) if env.is_valid(a)])\n",
    "            env.move(action)\n",
    "            if env.is_won():\n",
    "                if qplayer == env.opponent:\n",
    "                    wins += 1\n",
    "                else:\n",
    "                    losses += 1\n",
    "                done = True\n",
    "            elif env.is_full():\n",
    "                draws += 1\n",
    "                done = True\n",
    "\n",
    "    print(f'Result: {100*(wins+draws)/iterations:.2f}% ({wins}/{draws}/{losses})')"
   ]
  },
  {
   "cell_type": "code",
   "execution_count": null,
   "metadata": {},
   "outputs": [],
   "source": [
    "#\n",
    "# TRAINING\n",
    "#\n",
    "log_interval = 100000\n",
    "eval_interval = 200000\n",
    "eval_iterations = 20000\n",
    "lastLenQ = len(Q)\n",
    "for _ in range(20000000):\n",
    "    env = TicTacToe()\n",
    "    done = False\n",
    "    games += 1\n",
    "\n",
    "    while not done:\n",
    "        state = env.state\n",
    "        \n",
    "        if random.uniform(0, 1) < epsilon:\n",
    "            action = random.choice([a for a in range(9) if env.is_valid(a)])\n",
    "        else:\n",
    "            action = max([a for a in range(9) if env.is_valid(a)], key=lambda x: Q.get((state, x), 0))\n",
    "        \n",
    "        env.move(action)\n",
    "\n",
    "        if env.is_won():\n",
    "            Q[(state, action)] = 1\n",
    "            done = True\n",
    "        elif env.is_full():\n",
    "            Q[(state, action)] = 0\n",
    "            done = True\n",
    "        else:\n",
    "            next_state = env.state\n",
    "            next_max = -max([Q.get((next_state, a), 0) for a in range(9) if env.is_valid(a)])\n",
    "            oldq = Q.get((state, action), None)\n",
    "            targetq = -0.1 + gamma * next_max\n",
    "            if oldq is None:\n",
    "                Q[(state, action)] = targetq\n",
    "            else:\n",
    "                Q[(state, action)] = oldq + alpha*(targetq - oldq)\n",
    "            \n",
    "    if games % log_interval == 0:\n",
    "        lenq = len(Q)\n",
    "        print(f'{games}: Q has {lenq} (+{lenq - lastLenQ}) zeros: {sum([1 for q in Q.values() if q == 0])}')\n",
    "        lastLenQ = lenq\n",
    "    if games % eval_interval == 0:\n",
    "        print(f'{games}: validating...')\n",
    "        validate(eval_iterations)\n"
   ]
  },
  {
   "cell_type": "code",
   "execution_count": 21,
   "metadata": {},
   "outputs": [],
   "source": [
    "env = TicTacToe()"
   ]
  },
  {
   "cell_type": "code",
   "execution_count": null,
   "metadata": {},
   "outputs": [],
   "source": [
    "env.move(2)\n",
    "env.render()"
   ]
  },
  {
   "cell_type": "code",
   "execution_count": null,
   "metadata": {},
   "outputs": [],
   "source": [
    "state = env.state\n",
    "action = max([a for a in range(9) if env.is_valid(a)], key=lambda x: Q.get((state, x), 0))\n",
    "env.move(action)\n",
    "print(action)\n",
    "env.render()"
   ]
  }
 ],
 "metadata": {
  "kernelspec": {
   "display_name": "Python 3",
   "language": "python",
   "name": "python3"
  },
  "language_info": {
   "codemirror_mode": {
    "name": "ipython",
    "version": 3
   },
   "file_extension": ".py",
   "mimetype": "text/x-python",
   "name": "python",
   "nbconvert_exporter": "python",
   "pygments_lexer": "ipython3",
   "version": "3.11.3"
  },
  "orig_nbformat": 4
 },
 "nbformat": 4,
 "nbformat_minor": 2
}
