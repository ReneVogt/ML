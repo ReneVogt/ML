{
 "cells": [
  {
   "cell_type": "code",
   "execution_count": 5,
   "metadata": {},
   "outputs": [],
   "source": [
    "import random\n",
    "import torch\n",
    "import torch.nn as nn\n",
    "import torch.nn.functional as F\n",
    "import importlib\n",
    "import tictactoe\n",
    "importlib.reload(tictactoe);\n",
    "from tictactoe import TicTacToe\n"
   ]
  },
  {
   "cell_type": "code",
   "execution_count": 45,
   "metadata": {},
   "outputs": [],
   "source": [
    "#\n",
    "# Hyper parameters\n",
    "# \n",
    "alpha = 0.2\n",
    "gamma = 0.9\n",
    "epsilon = 0.2"
   ]
  },
  {
   "cell_type": "code",
   "execution_count": 46,
   "metadata": {},
   "outputs": [],
   "source": [
    "#\n",
    "# Create the model and optimizer\n",
    "# \n",
    "model = nn.Sequential(\n",
    "    nn.Linear(27, 81),    \n",
    "    nn.ReLU(),\n",
    "    nn.Linear(81, 9)\n",
    ")\n",
    "games = 0\n",
    "optimizer = torch.optim.SGD(model.parameters(), lr = alpha)\n"
   ]
  },
  {
   "cell_type": "code",
   "execution_count": null,
   "metadata": {},
   "outputs": [],
   "source": [
    "#\n",
    "# Full validation\n",
    "#\n",
    "def validategame(env, results):\n",
    "    state, player, opponent = env.state, env.player, env.opponent\n",
    "    for action in [a for a in range(9) if env.is_valid(a)]:\n",
    "        env.move(action)\n",
    "        if env.is_won():\n",
    "            results['losses'] += 1\n",
    "        elif env.is_full():\n",
    "            results['draws'] += 1\n",
    "        else:\n",
    "            q = model(env.stateTensor)\n",
    "            qa = max([a for a in range(9) if env.is_valid(a)], key = lambda x: q[x])\n",
    "            env.move(qa)\n",
    "            if env.is_won():\n",
    "                results['wins'] += 1\n",
    "            elif env.is_full():\n",
    "                results['draws'] += 1\n",
    "            else:\n",
    "                validategame(env, results)\n",
    "        env.board, env.player, env.opponent = list(state), player, opponent\n",
    "\n",
    "def validate():\n",
    "    train = model.training\n",
    "    model.eval()\n",
    "    \n",
    "    env = TicTacToe()\n",
    "    q = model(env.stateTensor)\n",
    "    qa = max([a for a in range(9) if env.is_valid(a)], key = lambda x: q[x])\n",
    "    env.move(qa)\n",
    "    results = {'wins': 0, 'losses': 0, 'draws': 0}\n",
    "    validategame(env, results)\n",
    "    nonloss = results['wins'] + results['draws']\n",
    "    total = results['losses'] + nonloss\n",
    "    print(f\"Cross: {100*nonloss/total:.2f}% of {total} ({results['wins']}/{results['draws']}/{results['losses']})\")\n",
    "\n",
    "    env = TicTacToe()\n",
    "    results = {'wins': 0, 'losses': 0, 'draws': 0}\n",
    "    validategame(env, results)\n",
    "    nonloss = results['wins'] + results['draws']\n",
    "    total = results['losses'] + nonloss\n",
    "    print(f\"Circle: {100*nonloss/total:.2f}% of {total} ({results['wins']}/{results['draws']}/{results['losses']})\")\n",
    "\n",
    "    if train:\n",
    "        model.train()\n",
    "\n",
    "validate()"
   ]
  },
  {
   "cell_type": "code",
   "execution_count": null,
   "metadata": {},
   "outputs": [],
   "source": [
    "#\n",
    "# TRAINING\n",
    "#\n",
    "log_interval = 10000\n",
    "losses = []\n",
    "model.train()\n",
    "for _ in range(1000000):\n",
    "    env = TicTacToe()\n",
    "    done = False\n",
    "    games += 1\n",
    "    loss = 0\n",
    "    moves = 0\n",
    "\n",
    "    while not done:\n",
    "        q = model(env.stateTensor)\n",
    "        targetq = q.detach().clone()\n",
    "\n",
    "        e = random.uniform(0, 1)\n",
    "        if moves == 0:\n",
    "            e /= 2\n",
    "        if  e < epsilon:\n",
    "            action = random.choice([a for a in range(9) if env.is_valid(a)])\n",
    "        else:\n",
    "            action = max([a for a in range(9) if env.is_valid(a)], key=lambda x: q[x])\n",
    "        \n",
    "        env.move(action)\n",
    "\n",
    "        if env.is_won():\n",
    "            targetq[action] = 1\n",
    "            done = True\n",
    "        elif env.is_full():\n",
    "            targetq[action] = 0\n",
    "            done = True\n",
    "        else:\n",
    "            model.eval()\n",
    "            with torch.no_grad():\n",
    "                next_q = model(env.stateTensor)\n",
    "                next_max = -max([next_q[a] for a in range(9) if env.is_valid(a)])\n",
    "                targetq[action] = -0.1 + gamma * next_max\n",
    "            model.train()\n",
    "            \n",
    "        loss += F.mse_loss(q, targetq)\n",
    "        moves += 1\n",
    "\n",
    "    loss /= moves\n",
    "    losses.append(loss.item())\n",
    "\n",
    "    optimizer.zero_grad()\n",
    "    loss.backward()\n",
    "    optimizer.step()\n",
    "\n",
    "    if games % log_interval == 0:\n",
    "        print(f'{games}: average loss: {sum(losses)/len(losses)}')\n",
    "        validate()\n"
   ]
  },
  {
   "cell_type": "code",
   "execution_count": 158,
   "metadata": {},
   "outputs": [],
   "source": [
    "env = TicTacToe()"
   ]
  },
  {
   "cell_type": "code",
   "execution_count": null,
   "metadata": {},
   "outputs": [],
   "source": [
    "env.move(4)\n",
    "env.render()"
   ]
  },
  {
   "cell_type": "code",
   "execution_count": null,
   "metadata": {},
   "outputs": [],
   "source": [
    "state = env.stateTensor\n",
    "q = model(state)\n",
    "action = max([a for a in range(9) if env.is_valid(a)], key=lambda x: q[x])\n",
    "env.move(action)\n",
    "print(action)\n",
    "env.render()"
   ]
  }
 ],
 "metadata": {
  "kernelspec": {
   "display_name": "Python 3",
   "language": "python",
   "name": "python3"
  },
  "language_info": {
   "codemirror_mode": {
    "name": "ipython",
    "version": 3
   },
   "file_extension": ".py",
   "mimetype": "text/x-python",
   "name": "python",
   "nbconvert_exporter": "python",
   "pygments_lexer": "ipython3",
   "version": "3.11.3"
  },
  "orig_nbformat": 4
 },
 "nbformat": 4,
 "nbformat_minor": 2
}
