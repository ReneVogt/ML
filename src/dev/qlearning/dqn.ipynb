{
 "cells": [
  {
   "cell_type": "code",
   "execution_count": 1,
   "metadata": {},
   "outputs": [],
   "source": [
    "import numpy as np\n",
    "import random\n",
    "import torch\n",
    "import torch.nn as nn\n",
    "import torch.nn.functional as F\n",
    "import importlib\n",
    "import tictactoe\n",
    "importlib.reload(tictactoe);\n",
    "from tictactoe import TicTacToe\n"
   ]
  },
  {
   "cell_type": "code",
   "execution_count": 2,
   "metadata": {},
   "outputs": [],
   "source": [
    "#\n",
    "# Hyper parameters\n",
    "# \n",
    "alpha = 0.2\n",
    "gamma = 0.9\n",
    "epsilon = 0.3"
   ]
  },
  {
   "cell_type": "code",
   "execution_count": 3,
   "metadata": {},
   "outputs": [],
   "source": [
    "#\n",
    "# Create the model and optimizer\n",
    "# \n",
    "model = nn.Sequential(\n",
    "    nn.Linear(27, 81),    \n",
    "    nn.ReLU(),\n",
    "    nn.Linear(81, 81),    \n",
    "    nn.ReLU(),\n",
    "    nn.Linear(81, 9)\n",
    ")\n",
    "\n",
    "optimizer = torch.optim.AdamW(model.parameters(), lr=alpha)\n",
    "games = 0"
   ]
  },
  {
   "cell_type": "code",
   "execution_count": 12,
   "metadata": {},
   "outputs": [],
   "source": [
    "#\n",
    "#validation\n",
    "#\n",
    "def validate(iterations):\n",
    "    train = model.training\n",
    "    model.eval()\n",
    "    wins = 0\n",
    "    draws = 0\n",
    "    losses = 0\n",
    "    for _ in range(iterations):\n",
    "        env = TicTacToe()\n",
    "        qplayer = random.choice([env.player, env.opponent])\n",
    "        done = False\n",
    "        while not done:\n",
    "            state = env.stateTensor\n",
    "            if qplayer == env.player:\n",
    "                q = model(state)\n",
    "                action = max([a for a in range(9) if env.is_valid(a)], key = lambda x: q[x])\n",
    "            else:\n",
    "                action = random.choice([a for a in range(9) if env.is_valid(a)])\n",
    "            env.move(action)\n",
    "            if env.is_won():\n",
    "                if qplayer == env.opponent:\n",
    "                    wins += 1\n",
    "                else:\n",
    "                    losses += 1\n",
    "                done = True\n",
    "            elif env.is_full():\n",
    "                draws += 1\n",
    "                done = True\n",
    "\n",
    "    print(f'Result: {100*(wins+draws)/iterations:.2f}% ({wins}/{draws}/{losses})')\n",
    "    if train:\n",
    "        model.train()"
   ]
  },
  {
   "cell_type": "code",
   "execution_count": null,
   "metadata": {},
   "outputs": [],
   "source": [
    "#\n",
    "# TRAINING\n",
    "#\n",
    "log_interval = 5000\n",
    "eval_interval = 10000\n",
    "eval_iterations = 10000\n",
    "losses = []\n",
    "model.train()\n",
    "for _ in range(2000000):\n",
    "    env = TicTacToe()\n",
    "    done = False\n",
    "    games += 1\n",
    "    loss = 0\n",
    "    moves = 0\n",
    "\n",
    "    while not done:\n",
    "        state = env.stateTensor\n",
    "        q = model(state)\n",
    "        targetq = q.detach().clone()\n",
    "\n",
    "        if random.uniform(0, 1) < epsilon:\n",
    "            action = random.choice([a for a in range(9) if env.is_valid(a)])\n",
    "        else:\n",
    "            action = max([a for a in range(9) if env.is_valid(a)], key=lambda x: q[x])\n",
    "        \n",
    "        env.move(action)\n",
    "\n",
    "        if env.is_won():\n",
    "            targetq[action] = 1\n",
    "            done = True\n",
    "        elif env.is_full():\n",
    "            targetq[action] = 0\n",
    "            done = True\n",
    "        else:\n",
    "            model.eval()\n",
    "            with torch.no_grad():\n",
    "                next_q = model(env.stateTensor)\n",
    "                next_max = -max([next_q[a] for a in range(9) if env.is_valid(a)])\n",
    "            model.train()\n",
    "            targetq[action] = -0.1 + gamma * next_max\n",
    "            \n",
    "        loss += F.mse_loss(q, targetq)\n",
    "        moves += 1\n",
    "\n",
    "    loss /= moves\n",
    "    losses.append(loss.item())\n",
    "\n",
    "    optimizer.zero_grad()\n",
    "    loss.backward()\n",
    "    optimizer.step()\n",
    "\n",
    "    if games % log_interval == 0:\n",
    "        print(f'{games}: average loss: {sum(losses)/len(losses)}')\n",
    "        losses = []\n",
    "    if games % eval_interval == 0:\n",
    "        print(f'{games}: validating...')\n",
    "        validate(eval_iterations)\n"
   ]
  },
  {
   "cell_type": "code",
   "execution_count": 158,
   "metadata": {},
   "outputs": [],
   "source": [
    "env = TicTacToe()"
   ]
  },
  {
   "cell_type": "code",
   "execution_count": null,
   "metadata": {},
   "outputs": [],
   "source": [
    "env.move(4)\n",
    "env.render()"
   ]
  },
  {
   "cell_type": "code",
   "execution_count": null,
   "metadata": {},
   "outputs": [],
   "source": [
    "state = env.stateTensor\n",
    "q = model(state)\n",
    "action = max([a for a in range(9) if env.is_valid(a)], key=lambda x: q[x])\n",
    "env.move(action)\n",
    "print(action)\n",
    "env.render()"
   ]
  }
 ],
 "metadata": {
  "kernelspec": {
   "display_name": "Python 3",
   "language": "python",
   "name": "python3"
  },
  "language_info": {
   "codemirror_mode": {
    "name": "ipython",
    "version": 3
   },
   "file_extension": ".py",
   "mimetype": "text/x-python",
   "name": "python",
   "nbconvert_exporter": "python",
   "pygments_lexer": "ipython3",
   "version": "3.11.3"
  },
  "orig_nbformat": 4
 },
 "nbformat": 4,
 "nbformat_minor": 2
}
