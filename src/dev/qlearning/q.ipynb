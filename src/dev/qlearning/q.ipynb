{
 "cells": [
  {
   "cell_type": "code",
   "execution_count": 14,
   "metadata": {},
   "outputs": [],
   "source": [
    "import numpy as np\n",
    "import random\n",
    "import torch\n",
    "import torch.nn as nn\n",
    "import torch.nn.functional as F\n",
    "import importlib\n",
    "import tictactoe\n",
    "importlib.reload(tictactoe);\n",
    "from tictactoe import TicTacToe\n"
   ]
  },
  {
   "cell_type": "code",
   "execution_count": 15,
   "metadata": {},
   "outputs": [],
   "source": [
    "#\n",
    "# Hyper parameters\n",
    "# \n",
    "alpha = 0.2\n",
    "gamma = 0.9\n",
    "epsilon = 0.3"
   ]
  },
  {
   "cell_type": "code",
   "execution_count": 16,
   "metadata": {},
   "outputs": [],
   "source": [
    "Q = {}\n",
    "games = 0"
   ]
  },
  {
   "cell_type": "code",
   "execution_count": 25,
   "metadata": {},
   "outputs": [
    {
     "name": "stdout",
     "output_type": "stream",
     "text": [
      "610000: Q 15499 (+5) zeros: 80\n",
      "620000: Q 15503 (+4) zeros: 80\n",
      "630000: Q 15509 (+6) zeros: 80\n",
      "640000: Q 15514 (+5) zeros: 80\n",
      "650000: Q 15525 (+11) zeros: 80\n",
      "660000: Q 15531 (+6) zeros: 80\n",
      "670000: Q 15534 (+3) zeros: 80\n",
      "680000: Q 15546 (+12) zeros: 80\n",
      "690000: Q 15554 (+8) zeros: 80\n",
      "700000: Q 15559 (+5) zeros: 80\n"
     ]
    }
   ],
   "source": [
    "#\n",
    "# TRAINING\n",
    "#\n",
    "log_interval = 10000\n",
    "lastQlen = len(Q)\n",
    "\n",
    "for _ in range(100000):\n",
    "    games += 1\n",
    "    env = TicTacToe()\n",
    "    done = False\n",
    "    history = []\n",
    "\n",
    "    while not done:       \n",
    "        state = env.state\n",
    "\n",
    "        if random.uniform(0, 1) < epsilon:\n",
    "            action = random.choice([a for a in range(9) if env.is_valid(a)])\n",
    "        else:\n",
    "            action = max([a for a in range(9) if env.is_valid(a)], key=lambda x: Q.get((state, x), 0))\n",
    "        \n",
    "        env.move(action)\n",
    "\n",
    "        if env.is_won():\n",
    "            Q[(state, action)] = 1\n",
    "            next_max = 1\n",
    "            done = True\n",
    "        elif env.is_full():\n",
    "            Q[(state, action)] = 0\n",
    "            next_max = 0\n",
    "            done = True\n",
    "        else:\n",
    "            oldQ = Q.get((state, action), None)\n",
    "            next_state = env.state\n",
    "            next_max = -max([Q.get((next_state, a), 0) for a in range(9) if env.is_valid(a)])\n",
    "            targetQ = -0.1 + gamma * next_max\n",
    "            if oldQ is None:\n",
    "                Q[(state, action)] = targetQ\n",
    "            else:\n",
    "                Q[(state, action)] = oldQ + alpha * (targetQ - oldQ)\n",
    "\n",
    "    if games % log_interval == 0:\n",
    "        lenQ = len(Q)\n",
    "        print(f'{games}: Q {lenQ} (+{lenQ-lastQlen}) zeros: {sum(1 for q in Q.values() if q == 0)}')\n",
    "        lastQlen = lenQ"
   ]
  },
  {
   "cell_type": "code",
   "execution_count": 32,
   "metadata": {},
   "outputs": [
    {
     "name": "stdout",
     "output_type": "stream",
     "text": [
      "Wins: 9384 Losses: 0 Draws: 616\n"
     ]
    }
   ],
   "source": [
    "#\n",
    "#validation\n",
    "#\n",
    "wins = 0\n",
    "draws = 0\n",
    "losses = 0\n",
    "for _ in range(10000):\n",
    "    env = TicTacToe()\n",
    "    qplayer = random.choice([env.player, env.opponent])\n",
    "    done = False\n",
    "    while not done:\n",
    "        state = env.state\n",
    "        if qplayer == env.player:\n",
    "            action = max([a for a in range(9) if env.is_valid(a)], key = lambda x: Q.get((state, x), 0))\n",
    "        else:\n",
    "            action = random.choice([a for a in range(9) if env.is_valid(a)])\n",
    "        env.move(action)\n",
    "        if env.is_won():\n",
    "            if qplayer == env.opponent:\n",
    "                wins += 1\n",
    "            else:\n",
    "                losses += 1\n",
    "            done = True\n",
    "        elif env.is_full():\n",
    "            draws += 1\n",
    "            done = True\n",
    "\n",
    "print(f'Wins: {wins} Losses: {losses} Draws: {draws}')"
   ]
  },
  {
   "cell_type": "code",
   "execution_count": 158,
   "metadata": {},
   "outputs": [],
   "source": [
    "env = TicTacToe()"
   ]
  },
  {
   "cell_type": "code",
   "execution_count": 165,
   "metadata": {},
   "outputs": [
    {
     "name": "stdout",
     "output_type": "stream",
     "text": [
      "|O X|\n",
      "|XXO|\n",
      "|OX |\n"
     ]
    }
   ],
   "source": [
    "env.move(7)\n",
    "env.render()"
   ]
  },
  {
   "cell_type": "code",
   "execution_count": 166,
   "metadata": {},
   "outputs": [
    {
     "name": "stdout",
     "output_type": "stream",
     "text": [
      "1: -0.1\n",
      "8: -0.9999999999999999\n",
      "1\n",
      "|OOX|\n",
      "|XXO|\n",
      "|OX |\n"
     ]
    }
   ],
   "source": [
    "#q = model(env.state)\n",
    "#action = max([a for a in range(9) if env.is_valid(a)], key=lambda x: q[x].item())\n",
    "state = env.state\n",
    "for i in range(9):\n",
    "    if env.is_valid(i):\n",
    "        print(f'{i}: {Q.get((state, i), 0)}')\n",
    "action = max([a for a in range(9) if env.is_valid(a)], key=lambda x: Q.get((state,x), 0))\n",
    "env.move(action)\n",
    "print(action)\n",
    "env.render()"
   ]
  },
  {
   "cell_type": "code",
   "execution_count": 90,
   "metadata": {},
   "outputs": [
    {
     "data": {
      "text/plain": [
       "3321"
      ]
     },
     "execution_count": 90,
     "metadata": {},
     "output_type": "execute_result"
    }
   ],
   "source": [
    "sum(1 for q in Q.values() if q == 0)"
   ]
  },
  {
   "cell_type": "code",
   "execution_count": 134,
   "metadata": {},
   "outputs": [
    {
     "data": {
      "text/plain": [
       "[1, 2, 3, 6, 7, 8]"
      ]
     },
     "execution_count": 134,
     "metadata": {},
     "output_type": "execute_result"
    }
   ],
   "source": [
    "l = [a for a in range(9) if state[a] == ' ']\n",
    "max([a for a in l], key=lambda x: Q.get((state,action), 0))\n",
    "l"
   ]
  },
  {
   "cell_type": "code",
   "execution_count": 129,
   "metadata": {},
   "outputs": [
    {
     "data": {
      "text/plain": [
       "1"
      ]
     },
     "execution_count": 129,
     "metadata": {},
     "output_type": "execute_result"
    }
   ],
   "source": [
    "x = { 0: -1, 1: -0.5, 2: -1, 3: -0.75}\n",
    "max([i for i in range(len(x))], key = lambda k: x.get(k, 0))"
   ]
  },
  {
   "cell_type": "code",
   "execution_count": null,
   "metadata": {},
   "outputs": [],
   "source": []
  }
 ],
 "metadata": {
  "kernelspec": {
   "display_name": "Python 3",
   "language": "python",
   "name": "python3"
  },
  "language_info": {
   "codemirror_mode": {
    "name": "ipython",
    "version": 3
   },
   "file_extension": ".py",
   "mimetype": "text/x-python",
   "name": "python",
   "nbconvert_exporter": "python",
   "pygments_lexer": "ipython3",
   "version": "3.11.3"
  },
  "orig_nbformat": 4
 },
 "nbformat": 4,
 "nbformat_minor": 2
}
