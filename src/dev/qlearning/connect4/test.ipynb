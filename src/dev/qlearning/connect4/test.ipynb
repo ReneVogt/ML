{
 "cells": [
  {
   "cell_type": "code",
   "execution_count": 1,
   "metadata": {},
   "outputs": [],
   "source": [
    "import random\n",
    "import torch\n",
    "import torch.nn as nn\n",
    "import torch.nn.functional as F\n",
    "import importlib\n",
    "import connect4\n",
    "importlib.reload(connect4);\n",
    "from connect4 import Connect4"
   ]
  },
  {
   "cell_type": "code",
   "execution_count": 3,
   "metadata": {},
   "outputs": [],
   "source": [
    "model = nn.Sequential(\n",
    "    nn.Linear(126, 252),\n",
    "    nn.ReLU(),\n",
    "    nn.Linear(252, 252),\n",
    "    nn.ReLU(),\n",
    "    nn.Linear(252, 7)\n",
    ")\n",
    "cp = torch.load(f'connect4.nn');\n",
    "model.load_state_dict(cp['model_state_dict']);\n"
   ]
  },
  {
   "cell_type": "code",
   "execution_count": 4,
   "metadata": {},
   "outputs": [],
   "source": [
    "@torch.no_grad()\n",
    "def validate(games):\n",
    "    print('Validation...')\n",
    "    xw, xd, xl, ow, od, ol  = connect4.validate(model, games)\n",
    "    xtotal = xw + xd + xl\n",
    "    ototal = ow + od + ol\n",
    "    print(f\"Cross: {100*xw/xtotal:.2f}% of {xtotal} ({xw}/{xd}/{xl})\")\n",
    "    print(f\"Circle: {100*(ow+od)/ototal:.2f}% of {ototal} ({ow}/{od}/{ol})\")"
   ]
  },
  {
   "cell_type": "code",
   "execution_count": 5,
   "metadata": {},
   "outputs": [
    {
     "name": "stdout",
     "output_type": "stream",
     "text": [
      "Validation...\n",
      "Cross: 95.55% of 49787 (47570/112/2105)\n",
      "Circle: 93.79% of 50213 (46712/383/3118)\n"
     ]
    }
   ],
   "source": [
    "validate(100000)"
   ]
  }
 ],
 "metadata": {
  "kernelspec": {
   "display_name": "Python 3",
   "language": "python",
   "name": "python3"
  },
  "language_info": {
   "codemirror_mode": {
    "name": "ipython",
    "version": 3
   },
   "file_extension": ".py",
   "mimetype": "text/x-python",
   "name": "python",
   "nbconvert_exporter": "python",
   "pygments_lexer": "ipython3",
   "version": "3.11.3"
  },
  "orig_nbformat": 4
 },
 "nbformat": 4,
 "nbformat_minor": 2
}
