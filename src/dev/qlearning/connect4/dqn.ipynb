{
 "cells": [
  {
   "cell_type": "code",
   "execution_count": 166,
   "metadata": {},
   "outputs": [],
   "source": [
    "import random\n",
    "import torch\n",
    "import torch.nn as nn\n",
    "import torch.nn.functional as F\n",
    "import importlib\n",
    "import connect4\n",
    "importlib.reload(connect4);\n",
    "from connect4 import Connect4"
   ]
  },
  {
   "cell_type": "code",
   "execution_count": 141,
   "metadata": {},
   "outputs": [],
   "source": [
    "#\n",
    "# Hyper parameters\n",
    "# \n",
    "alpha = 0.4\n",
    "gamma = 0.9\n",
    "epsilon = 0.3"
   ]
  },
  {
   "cell_type": "code",
   "execution_count": 135,
   "metadata": {},
   "outputs": [],
   "source": [
    "#\n",
    "# Create the model and optimizer\n",
    "# \n",
    "model = nn.Sequential(\n",
    "    nn.Linear(126, 882),\n",
    "    nn.ReLU(),\n",
    "    nn.Linear(882, 7)\n",
    ")\n",
    "games = 0"
   ]
  },
  {
   "cell_type": "code",
   "execution_count": 142,
   "metadata": {},
   "outputs": [],
   "source": [
    "optimizer = torch.optim.SGD(model.parameters(), lr = alpha)"
   ]
  },
  {
   "cell_type": "code",
   "execution_count": null,
   "metadata": {},
   "outputs": [],
   "source": [
    "#\n",
    "# Load model from checkpoint\n",
    "#\n",
    "checkpoint = torch.load(f'connect4-{games}.nn');\n",
    "model.load_state_dict(checkpoint['model_state_dict']);\n",
    "optimizer.load_state_dict(checkpoint['optimizer_state_dict']);"
   ]
  },
  {
   "cell_type": "code",
   "execution_count": 145,
   "metadata": {},
   "outputs": [],
   "source": [
    "@torch.no_grad()\n",
    "def checkpoint(step):\n",
    "    train = model.training\n",
    "    if train: model.eval();\n",
    "    print(f\"{step}: checkpoint...\")\n",
    "    torch.save({\n",
    "        'model_state_dict': model.state_dict(),\n",
    "        'optimizer_state_dict': optimizer.state_dict(),\n",
    "    }, f'connect4-{step}.nn');\n",
    "\n",
    "    dummy_input = Connect4().state\n",
    "    torch.onnx.export(model, dummy_input, f\"connect4-{step}.onnx\");\n",
    "\n",
    "    print(f\"{step}: checkpoint saved.\")\n",
    "    if train: model.train();\n"
   ]
  },
  {
   "cell_type": "code",
   "execution_count": 167,
   "metadata": {},
   "outputs": [],
   "source": [
    "#\n",
    "# Validation\n",
    "#\n",
    "@torch.no_grad()\n",
    "def validate(games):\n",
    "    print('Validation...')\n",
    "    wins, draws, losses = connect4.validate(model, games)\n",
    "    total = wins + draws + losses\n",
    "    print(f\"Result: {100*(wins+draws)/total:.2f}% of {total} ({wins}/{draws}/{losses})\")\n",
    "\n",
    "@torch.no_grad()\n",
    "def validate_full(loginterval = None):\n",
    "    print('Full validation...')\n",
    "    cross, circle = connect4.validate_full(model, loginterval=loginterval)\n",
    "    nonloss = cross['wins'] + cross['draws']\n",
    "    total = cross['losses'] + nonloss\n",
    "    print(f\"Cross: {100*nonloss/total:.2f}% of {total} ({cross['wins']}/{cross['draws']}/{cross['losses']})\")\n",
    "\n",
    "    nonloss = circle['wins'] + circle['draws']\n",
    "    total = circle['losses'] + nonloss\n",
    "    print(f\"Circle: {100*nonloss/total:.2f}% of {total} ({circle['wins']}/{circle['draws']}/{circle['losses']})\")"
   ]
  },
  {
   "cell_type": "code",
   "execution_count": 170,
   "metadata": {},
   "outputs": [],
   "source": [
    "#\n",
    "# TRAINING\n",
    "#\n",
    "log_interval = 10000\n",
    "validation_interval = 20000\n",
    "validation_games = 20000\n",
    "checkpoint_interval = 50000\n",
    "losses = []\n",
    "model.train()\n",
    "for _ in range(500000):\n",
    "    env = Connect4()\n",
    "    done = False\n",
    "    games += 1\n",
    "    loss = 0\n",
    "    moves = 0\n",
    "\n",
    "    while not done:\n",
    "        q = model(env.state)\n",
    "        targetq = q.detach().clone()\n",
    "\n",
    "        e = random.uniform(0, 1)\n",
    "#        if moves == 0:\n",
    "#           e /= 2\n",
    "        if e < epsilon:\n",
    "            action = random.choice([a for a in range(7) if env.is_valid(a)])\n",
    "        else:\n",
    "            action = max([a for a in range(7) if env.is_valid(a)], key=lambda x: q[x])\n",
    "        \n",
    "        env.move(action)\n",
    "\n",
    "        if env.winner != 0:\n",
    "            targetq[action] = 1\n",
    "            done = True\n",
    "        elif env.full:\n",
    "            targetq[action] = 0\n",
    "            done = True\n",
    "        else:\n",
    "            model.eval()\n",
    "            with torch.no_grad():\n",
    "                next_q = model(env.state)\n",
    "                next_max = -max([next_q[a] for a in range(9) if env.is_valid(a)])\n",
    "                targetq[action] = -0.1 + gamma * next_max\n",
    "            model.train()\n",
    "            \n",
    "        loss += F.mse_loss(q, targetq)\n",
    "        moves += 1\n",
    "\n",
    "    loss /= moves\n",
    "    losses.append(loss.item())\n",
    "\n",
    "    optimizer.zero_grad()\n",
    "    loss.backward()\n",
    "    optimizer.step()\n",
    "\n",
    "    if games % log_interval == 0:\n",
    "        print(f'{games}: average loss: {sum(losses)/len(losses)}')\n",
    "        losses = []\n",
    "    if games % validation_interval == 0:\n",
    "        validate(validation_games)\n",
    "    if games % checkpoint_interval == 0:\n",
    "        checkpoint(games)\n"
   ]
  },
  {
   "cell_type": "code",
   "execution_count": null,
   "metadata": {},
   "outputs": [],
   "source": [
    "validate_full(100000)"
   ]
  }
 ],
 "metadata": {
  "kernelspec": {
   "display_name": "Python 3",
   "language": "python",
   "name": "python3"
  },
  "language_info": {
   "codemirror_mode": {
    "name": "ipython",
    "version": 3
   },
   "file_extension": ".py",
   "mimetype": "text/x-python",
   "name": "python",
   "nbconvert_exporter": "python",
   "pygments_lexer": "ipython3",
   "version": "3.11.3"
  },
  "orig_nbformat": 4
 },
 "nbformat": 4,
 "nbformat_minor": 2
}
