{
 "cells": [
  {
   "cell_type": "code",
   "execution_count": 1,
   "metadata": {},
   "outputs": [],
   "source": [
    "import random\n",
    "import torch\n",
    "import torch.nn as nn\n",
    "import torch.nn.functional as F\n",
    "import importlib\n",
    "import connect4\n",
    "importlib.reload(connect4);\n",
    "from connect4 import Connect4"
   ]
  },
  {
   "cell_type": "code",
   "execution_count": 2,
   "metadata": {},
   "outputs": [],
   "source": [
    "#\n",
    "# Hyper parameters\n",
    "# \n",
    "alpha = 0.3\n",
    "gamma = 0.9\n",
    "epsilon = 0.3"
   ]
  },
  {
   "cell_type": "code",
   "execution_count": 3,
   "metadata": {},
   "outputs": [],
   "source": [
    "#\n",
    "# Create the model and optimizer\n",
    "# \n",
    "model = nn.Sequential(\n",
    "    nn.Linear(126, 252),\n",
    "    nn.ReLU(),\n",
    "    nn.Linear(252, 252),\n",
    "    nn.ReLU(),\n",
    "    nn.Linear(252, 7)\n",
    ")\n",
    "games = 0"
   ]
  },
  {
   "cell_type": "code",
   "execution_count": 4,
   "metadata": {},
   "outputs": [],
   "source": [
    "optimizer = torch.optim.SGD(model.parameters(), lr = alpha)"
   ]
  },
  {
   "cell_type": "code",
   "execution_count": 5,
   "metadata": {},
   "outputs": [],
   "source": [
    "#\n",
    "# Load model from checkpoint\n",
    "#\n",
    "games = 2300000\n",
    "cp = torch.load(f'connect4.nn');\n",
    "model.load_state_dict(cp['model_state_dict']);\n",
    "optimizer.load_state_dict(cp['optimizer_state_dict']);"
   ]
  },
  {
   "cell_type": "code",
   "execution_count": 5,
   "metadata": {},
   "outputs": [],
   "source": [
    "@torch.no_grad()\n",
    "def checkpoint(step):\n",
    "    train = model.training\n",
    "    if train: model.eval();\n",
    "    print(f\"{step}: checkpoint...\")\n",
    "    torch.save({\n",
    "        'model_state_dict': model.state_dict(),\n",
    "        'optimizer_state_dict': optimizer.state_dict(),\n",
    "    }, f'connect4-{step}.nn');\n",
    "\n",
    "    dummy_input = Connect4().state\n",
    "    torch.onnx.export(model, dummy_input, f\"connect4-{step}.onnx\");\n",
    "\n",
    "    print(f\"{step}: checkpoint saved.\")\n",
    "    if train: model.train();\n"
   ]
  },
  {
   "cell_type": "code",
   "execution_count": 6,
   "metadata": {},
   "outputs": [],
   "source": [
    "#\n",
    "# Validation\n",
    "#\n",
    "@torch.no_grad()\n",
    "def validate(games):\n",
    "    print('Validation...')\n",
    "    xw, xd, xl, ow, od, ol  = connect4.validate(model, games)\n",
    "    xtotal = xw + xd + xl\n",
    "    ototal = ow + od + ol\n",
    "    print(f\"Cross: {100*xw/xtotal:.2f}% of {xtotal} ({xw}/{xd}/{xl})\")\n",
    "    print(f\"Circle: {100*(ow+od)/ototal:.2f}% of {ototal} ({ow}/{od}/{ol})\")"
   ]
  },
  {
   "cell_type": "code",
   "execution_count": null,
   "metadata": {},
   "outputs": [],
   "source": [
    "#\n",
    "# TRAINING\n",
    "#\n",
    "log_interval = 10000\n",
    "validation_interval = 50000\n",
    "validation_games = 20000\n",
    "checkpoint_interval = 50000\n",
    "losses = []\n",
    "model.train()\n",
    "for _ in range(2000000):\n",
    "    env = Connect4()\n",
    "    done = False\n",
    "    games += 1\n",
    "    loss = 0\n",
    "    moves = 0\n",
    "\n",
    "    while not done:\n",
    "        q = model(env.state)\n",
    "        targetq = q.detach().clone()\n",
    "\n",
    "        e = random.uniform(0, 1)\n",
    "#        if moves == 0:\n",
    "#           e /= 2\n",
    "        if e < epsilon:\n",
    "            action = random.choice([a for a in range(7) if env.is_valid(a)])\n",
    "        else:\n",
    "            action = max([a for a in range(7) if env.is_valid(a)], key=lambda x: q[x])\n",
    "        \n",
    "        env.move(action)\n",
    "\n",
    "        if env.winner != 0:\n",
    "            targetq[action] = 1\n",
    "            done = True\n",
    "        elif env.full:\n",
    "            targetq[action] = 0 if env.player == 2 else 0.25\n",
    "            done = True\n",
    "        else:\n",
    "            model.eval()\n",
    "            with torch.no_grad():\n",
    "                next_q = model(env.state)\n",
    "                next_max = -max([next_q[a] for a in range(9) if env.is_valid(a)])\n",
    "                reward = -0.1 if env.player == 2 else 0\n",
    "                targetq[action] = reward + gamma * next_max\n",
    "            model.train()\n",
    "            \n",
    "        loss += F.mse_loss(q, targetq)\n",
    "        moves += 1\n",
    "\n",
    "    loss /= moves\n",
    "    losses.append(loss.item())\n",
    "\n",
    "    optimizer.zero_grad()\n",
    "    loss.backward()\n",
    "    optimizer.step()\n",
    "\n",
    "    if games % log_interval == 0:\n",
    "        print(f'{games}: average loss: {sum(losses)/len(losses)}')\n",
    "        losses = []\n",
    "    if games % validation_interval == 0:\n",
    "        validate(validation_games)\n",
    "    if games % checkpoint_interval == 0:\n",
    "        checkpoint(games)\n"
   ]
  }
 ],
 "metadata": {
  "kernelspec": {
   "display_name": "Python 3",
   "language": "python",
   "name": "python3"
  },
  "language_info": {
   "codemirror_mode": {
    "name": "ipython",
    "version": 3
   },
   "file_extension": ".py",
   "mimetype": "text/x-python",
   "name": "python",
   "nbconvert_exporter": "python",
   "pygments_lexer": "ipython3",
   "version": "3.11.3"
  },
  "orig_nbformat": 4
 },
 "nbformat": 4,
 "nbformat_minor": 2
}
