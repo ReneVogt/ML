{
 "cells": [
  {
   "cell_type": "code",
   "execution_count": 30,
   "metadata": {},
   "outputs": [],
   "source": [
    "import importlib\n",
    "import cnn\n",
    "import training\n",
    "importlib.reload(cnn)\n",
    "importlib.reload(training)\n",
    "import torch as T\n",
    "import torch.nn.functional as F\n",
    "import torch.optim as o\n",
    "from torch.utils.data import DataLoader"
   ]
  },
  {
   "cell_type": "code",
   "execution_count": 31,
   "metadata": {},
   "outputs": [],
   "source": [
    "device = T.device('cuda' if T.cuda.is_available() else 'cpu')\n",
    "\n",
    "batch_size = 256\n",
    "learning_rate = 0.01\n",
    "\n",
    "train_dataset = T.load('train.pt')\n",
    "test_dataset = T.load('test.pt')\n",
    "train_loader = DataLoader(train_dataset, batch_size=batch_size, shuffle=True)\n",
    "test_loader = DataLoader(test_dataset, batch_size=batch_size, shuffle=False)\n"
   ]
  },
  {
   "cell_type": "code",
   "execution_count": 32,
   "metadata": {},
   "outputs": [
    {
     "name": "stdout",
     "output_type": "stream",
     "text": [
      "227098 parameters on 'cuda'.\n"
     ]
    }
   ],
   "source": [
    "model = cnn.LetterClassifierCnn()\n",
    "model.to(device)\n",
    "optimizer = o.Adam(model.parameters(), lr=learning_rate)\n",
    "print(f\"{sum(p.numel() for p in model.parameters() if p.requires_grad)} parameters on '{device}'.\")"
   ]
  },
  {
   "cell_type": "code",
   "execution_count": 33,
   "metadata": {},
   "outputs": [
    {
     "name": "stdout",
     "output_type": "stream",
     "text": [
      "Epoch: 1\n",
      "Training loss: 1.9594 accuracy: 47.00%\n",
      "Evaluation loss: 1.8050 accuracy: 50.33%\n",
      "Epoch: 2\n",
      "Training loss: 1.7665 accuracy: 51.32%\n",
      "Evaluation loss: 1.7687 accuracy: 51.97%\n",
      "Epoch: 3\n",
      "Training loss: 1.7366 accuracy: 52.13%\n",
      "Evaluation loss: 1.7525 accuracy: 52.02%\n",
      "Epoch: 4\n",
      "Training loss: 1.7258 accuracy: 52.46%\n",
      "Evaluation loss: 1.7581 accuracy: 52.06%\n",
      "Epoch: 5\n",
      "Training loss: 1.7203 accuracy: 52.60%\n",
      "Evaluation loss: 1.7464 accuracy: 52.13%\n",
      "Epoch: 6\n",
      "Training loss: 1.7128 accuracy: 52.64%\n",
      "Evaluation loss: 1.7565 accuracy: 51.92%\n",
      "Epoch: 7\n",
      "Training loss: 1.7104 accuracy: 52.81%\n",
      "Evaluation loss: 1.7447 accuracy: 52.38%\n",
      "Epoch: 8\n",
      "Training loss: 1.7095 accuracy: 52.81%\n"
     ]
    }
   ],
   "source": [
    "for epoch in range(10):\n",
    "    print(f'Epoch: {epoch+1}')\n",
    "    loss, accuracy = training.train(model, train_loader, device, optimizer)\n",
    "    print(f'Training loss: {loss:.4f} accuracy: {accuracy:.2f}%')\n",
    "    loss, accuracy = training.evaluate(model, test_loader, device)\n",
    "    print(f'Evaluation loss: {loss:.4f} accuracy: {accuracy:.2f}%')    "
   ]
  },
  {
   "cell_type": "code",
   "execution_count": 3,
   "metadata": {},
   "outputs": [],
   "source": [
    "from torchvision.datasets import EMNIST\n",
    "from torchvision.transforms import Compose, ToTensor, Normalize\n",
    "\n",
    "# Define preprocessing transforms\n",
    "transform = Compose([\n",
    "    ToTensor(),  # Convert image to PyTorch tensor\n",
    "    Normalize((0.5,), (0.5,))  # Normalize pixel values to [-1, 1]\n",
    "])\n",
    "\n",
    "# Download and load the dataset\n",
    "train_dataset = EMNIST(root='../../../../DataSets', split='letters', train=True, download=False, transform=transform)\n",
    "test_dataset = EMNIST(root='../../../../DataSets', split='letters', train=False, download=False, transform=transform)\n",
    "\n",
    "T.save(train_dataset, 'train.pt')\n",
    "T.save(test_dataset, 'test.pt')"
   ]
  }
 ],
 "metadata": {
  "kernelspec": {
   "display_name": "Python 3",
   "language": "python",
   "name": "python3"
  },
  "language_info": {
   "codemirror_mode": {
    "name": "ipython",
    "version": 3
   },
   "file_extension": ".py",
   "mimetype": "text/x-python",
   "name": "python",
   "nbconvert_exporter": "python",
   "pygments_lexer": "ipython3",
   "version": "3.12.3"
  },
  "orig_nbformat": 4
 },
 "nbformat": 4,
 "nbformat_minor": 2
}
