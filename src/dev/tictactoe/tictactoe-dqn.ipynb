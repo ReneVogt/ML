{
 "cells": [
  {
   "cell_type": "code",
   "execution_count": null,
   "metadata": {},
   "outputs": [],
   "source": [
    "import numpy as np\n",
    "import importlib\n",
    "import validation\n",
    "import tictactoe\n",
    "import agent\n",
    "importlib.reload(validation)\n",
    "importlib.reload(tictactoe)\n",
    "importlib.reload(agent)\n",
    "from tictactoe import TicTacToeBoard\n",
    "from validation import validateTicTacToe\n",
    "from agent import TicTacToeAgent"
   ]
  },
  {
   "cell_type": "code",
   "execution_count": null,
   "metadata": {},
   "outputs": [],
   "source": [
    "#\n",
    "# Hyper parameters\n",
    "# \n",
    "lr = 0.3\n",
    "gamma = 0.9\n",
    "epsilon = 1\n",
    "eps_min = 0.01\n",
    "eps_dec = 0\n",
    "batch_size = 512\n",
    "memory_size = 32000"
   ]
  },
  {
   "cell_type": "code",
   "execution_count": null,
   "metadata": {},
   "outputs": [],
   "source": [
    "agent = TicTacToeAgent(\n",
    "    gamma = gamma, \n",
    "    epsilon = epsilon, \n",
    "    lr = lr, \n",
    "    batch_size = batch_size, \n",
    "    memory_size = memory_size,\n",
    "    epsilon_end = eps_min, \n",
    "    epsilon_decay = eps_dec)"
   ]
  },
  {
   "cell_type": "code",
   "execution_count": null,
   "metadata": {},
   "outputs": [],
   "source": [
    "#\n",
    "# TRAINING\n",
    "#\n",
    "log_interval = 10000\n",
    "games = 0\n",
    "env = TicTacToeBoard()\n",
    "crossBias = 0.3\n",
    "\n",
    "for _ in range(100000):\n",
    "    games += 1\n",
    "    env.reset()    \n",
    "    \n",
    "    while not env.finished:\n",
    "        state = env.stateTensor\n",
    "        action = agent.getTrainingAction(state, env.validMovesMask)\n",
    "        env.move(action)\n",
    "        next_state = env.stateTensor\n",
    "        reward = 1 if env.won else 0 if env.draw else -0.1\n",
    "        if env.player == 'X' or np.random.random() < crossBias:\n",
    "            agent.store_transition(state, action, next_state, env.validMovesMask, env.finished, reward)\n",
    "\n",
    "    agent.learn()\n",
    "\n",
    "    if games % log_interval == 0:\n",
    "        print(f'{games} games')\n",
    "        validateTicTacToe(agent)\n"
   ]
  }
 ],
 "metadata": {
  "kernelspec": {
   "display_name": "Python 3",
   "language": "python",
   "name": "python3"
  },
  "language_info": {
   "codemirror_mode": {
    "name": "ipython",
    "version": 3
   },
   "file_extension": ".py",
   "mimetype": "text/x-python",
   "name": "python",
   "nbconvert_exporter": "python",
   "pygments_lexer": "ipython3",
   "version": "3.12.3"
  },
  "orig_nbformat": 4
 },
 "nbformat": 4,
 "nbformat_minor": 2
}
