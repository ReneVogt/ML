{
 "cells": [
  {
   "cell_type": "code",
   "execution_count": 17,
   "metadata": {},
   "outputs": [],
   "source": [
    "import torch\n",
    "import json\n",
    "import transformer as t\n",
    "import importlib\n",
    "importlib.reload(t);"
   ]
  },
  {
   "cell_type": "code",
   "execution_count": 41,
   "metadata": {},
   "outputs": [],
   "source": [
    "#\n",
    "# Hyper parameter\n",
    "#\n",
    "topic           = 'commits'\n",
    "token_size      = 3\n",
    "batch_size      = 128\n",
    "max_iterations  = 11000\n",
    "eval_interval   = 2000\n",
    "learning_rate   = 1e-4\n",
    "eval_iters      = 200\n",
    "\n",
    "#\n",
    "# Network \n",
    "#\n",
    "t.attention_heads_per_block = 8\n",
    "t.attention_blocks          = 16\n",
    "t.sample_size               = 48     # number of consecutive characters to predict from\n",
    "t.embedding_size            = 256    # size of the embedding vectors\n",
    "t.dropout                   = 0.2\n",
    "\n",
    "# remember to set t.vocabulary_size when data is loaded"
   ]
  },
  {
   "cell_type": "code",
   "execution_count": 27,
   "metadata": {},
   "outputs": [],
   "source": [
    "# read in file\n",
    "with open(f'{topic}/{topic}.txt', 'r', encoding='utf-8') as f:\n",
    "    text = f.read()\n",
    "text = text.ljust((len(text) + token_size-1)//token_size*token_size, '\\n')\n",
    "\n",
    "tokens = list(set([text[i:i+token_size] for i in range(0, len(text), token_size)]))\n",
    "t.vocabulary_size = len(tokens)\n",
    "\n",
    "# Build encoder and decoder\n",
    "token_to_index = {token:index for index,token in enumerate(tokens)}\n",
    "index_to_token = {index:token for index,token in enumerate(tokens)}\n",
    "def encode(s):\n",
    "    s = s.ljust((len(s) + token_size-1)//token_size * token_size, '\\n')\n",
    "    return [token_to_index[token] for token in [s[i:i+token_size] for i in range(0, len(s), token_size)]]\n",
    "encode = lambda s: [token_to_index[token] for token in [s[i:i+token_size] for i in range(0, len(s), token_size)]]\n",
    "decode = lambda l: ''.join([index_to_token[i] for i in l])\n",
    "\n",
    "# save vocabulary\n",
    "dictionary = {str(k): v for k, v in index_to_token.items()}\n",
    "with open(f'{topic}/vocabulary.json', 'w') as file:\n",
    "    json.dump(dictionary, file)\n",
    "\n",
    "# create data tensors\n",
    "data = torch.tensor(encode(text), dtype=torch.long)\n",
    "n = int(0.9*len(data))\n",
    "training_data = data[:n]\n",
    "validation_data = data[n:]"
   ]
  },
  {
   "cell_type": "code",
   "execution_count": null,
   "metadata": {},
   "outputs": [],
   "source": [
    "#\n",
    "# Create model\n",
    "#\n",
    "torch.manual_seed(1337)\n",
    "model = t.Transformer()\n",
    "m = model.to(t.device)\n",
    "optimizer = torch.optim.AdamW(model.parameters(), lr=learning_rate)\n",
    "print(f'{sum(p.nelement() for p in model.parameters())} parameters')\n",
    "\n",
    "current_iteration = 10000\n",
    "\n",
    "# Load the states\n",
    "checkpoint = torch.load(f'{topic}/{topic}-{current_iteration}.nn');\n",
    "model.load_state_dict(checkpoint['model_state_dict']);\n",
    "optimizer.load_state_dict(checkpoint['optimizer_state_dict']);\n",
    "\n",
    "model.train()"
   ]
  },
  {
   "cell_type": "code",
   "execution_count": 42,
   "metadata": {},
   "outputs": [],
   "source": [
    "#\n",
    "# mini-batch creation\n",
    "#\n",
    "def get_batch(split):\n",
    "    data = training_data if split == 'train' else validation_data\n",
    "    ix = torch.randint(len(data) - t.sample_size, (batch_size, ))\n",
    "    x = torch.stack([data[i:i+t.sample_size] for i in ix])\n",
    "    y = torch.stack([data[i+1:i+t.sample_size+1] for i in ix])\n",
    "    x,y = x.to(t.device), y.to(t.device)\n",
    "    return x,y\n",
    "#\n",
    "# evaluation\n",
    "#\n",
    "@torch.no_grad()\n",
    "def estimate_loss():\n",
    "    out = {}\n",
    "    model.eval()\n",
    "    for split in ['train', 'val']:\n",
    "        losses = torch.zeros(eval_iters)\n",
    "        for k in range(eval_iters):\n",
    "            x, y = get_batch(split)\n",
    "            _, loss = model(x, y)\n",
    "            losses[k] = loss.item()\n",
    "        out[split] = losses.mean()\n",
    "    model.train()\n",
    "    return out\n",
    "\n",
    "def save_model(step):\n",
    "    model.eval()\n",
    "    torch.save({\n",
    "        'model_state_dict': model.state_dict(),\n",
    "        'optimizer_state_dict': optimizer.state_dict(),\n",
    "    }, f'{topic}/{topic}-{step}.nn');\n",
    "    model.train()\n",
    "\n",
    "def export_model(step):\n",
    "    model.eval()\n",
    "    dummy_input = torch.randint(low=0, high=t.vocabulary_size, size=(1, t.sample_size), dtype=torch.long)\n",
    "    torch.onnx.export(model, dummy_input, f\"{topic}/{topic}-{step}.onnx\")\n",
    "    model.train()    "
   ]
  },
  {
   "cell_type": "code",
   "execution_count": 43,
   "metadata": {},
   "outputs": [
    {
     "name": "stdout",
     "output_type": "stream",
     "text": [
      "step 10500\n"
     ]
    }
   ],
   "source": [
    "#\n",
    "# Training\n",
    "#\n",
    "model.train()\n",
    "for _ in range(max_iterations-current_iteration):\n",
    "    current_iteration += 1\n",
    "    if current_iteration % eval_interval == 0 and current_iteration > 10000:\n",
    "        print(\"evaluating...\")\n",
    "        losses = estimate_loss()\n",
    "        print(f\"step {current_iteration}: train loss {losses['train']:.4f}, val loss {losses['val']:.4f}\")\n",
    "\n",
    "    if current_iteration % 500 == 0:\n",
    "        print(f\"step {current_iteration}\")\n",
    "\n",
    "    if current_iteration % 1000 == 0 and current_iteration > 10000:\n",
    "        print(f\"Saving at step {current_iteration}\")\n",
    "        save_model(current_iteration)\n",
    "\n",
    "    xb, yb = get_batch('train')\n",
    "    _, loss = model(xb,yb)\n",
    "    optimizer.zero_grad()\n",
    "    loss.backward()\n",
    "    optimizer.step()\n",
    "\n",
    "save_model(current_iteration)\n",
    "export_model(current_iteration)"
   ]
  },
  {
   "cell_type": "code",
   "execution_count": null,
   "metadata": {},
   "outputs": [],
   "source": [
    "model.eval()\n",
    "print(decode(m.generate(torch.zeros((1,1), dtype=torch.long, device=t.device), max_tokens=500)[0].tolist()))"
   ]
  }
 ],
 "metadata": {
  "kernelspec": {
   "display_name": "Python 3",
   "language": "python",
   "name": "python3"
  },
  "language_info": {
   "codemirror_mode": {
    "name": "ipython",
    "version": 3
   },
   "file_extension": ".py",
   "mimetype": "text/x-python",
   "name": "python",
   "nbconvert_exporter": "python",
   "pygments_lexer": "ipython3",
   "version": "3.11.3"
  },
  "orig_nbformat": 4
 },
 "nbformat": 4,
 "nbformat_minor": 2
}
