{
 "cells": [
  {
   "cell_type": "code",
   "execution_count": 55,
   "metadata": {},
   "outputs": [],
   "source": [
    "import torch\n",
    "import json\n",
    "import transformer as t\n",
    "import importlib\n",
    "importlib.reload(t);"
   ]
  },
  {
   "cell_type": "code",
   "execution_count": 58,
   "metadata": {},
   "outputs": [],
   "source": [
    "# read in file\n",
    "with open('shakespeare.txt', 'r', encoding='utf-8') as f:\n",
    "    text = f.read()\n",
    "chars = sorted(list(set(text)))\n",
    "\n",
    "# Build encoder and decoder\n",
    "stoi = {ch:i for i,ch in enumerate(chars)}\n",
    "itos = {i:ch for i,ch in enumerate(chars)}\n",
    "encode = lambda s: [stoi[c] for c in s]\n",
    "decode = lambda l: ''.join([itos[i] for i in l])\n",
    "\n",
    "# create data tensors\n",
    "data = torch.tensor(encode(text), dtype=torch.long)\n",
    "n = int(0.9*len(data))\n",
    "training_data = data[:n]\n",
    "validation_data = data[n:]"
   ]
  },
  {
   "cell_type": "code",
   "execution_count": 59,
   "metadata": {},
   "outputs": [],
   "source": [
    "#\n",
    "# Hyper parameter\n",
    "#\n",
    "batch_size      = 64\n",
    "max_iterations  = 10000\n",
    "eval_interval   = 2000\n",
    "learning_rate   = 1e-4\n",
    "eval_iters      = 200"
   ]
  },
  {
   "cell_type": "code",
   "execution_count": 60,
   "metadata": {},
   "outputs": [
    {
     "data": {
      "text/plain": [
       "12674113"
      ]
     },
     "execution_count": 60,
     "metadata": {},
     "output_type": "execute_result"
    }
   ],
   "source": [
    "#\n",
    "# Network \n",
    "#\n",
    "t.vocabulary_size           = len(chars)\n",
    "t.attention_heads_per_block = 8\n",
    "t.attention_blocks          = 16\n",
    "t.sample_size               = 64     # number of consecutive characters to predict from\n",
    "t.embedding_size            = 256    # size of the embedding vectors\n",
    "t.dropout                   = 0.2\n",
    "\n",
    "torch.manual_seed(1337)\n",
    "\n",
    "model = t.Transformer()\n",
    "m = model.to(t.device)\n",
    "optimizer = torch.optim.AdamW(model.parameters(), lr=learning_rate)\n",
    "sum(p.nelement() for p in model.parameters())"
   ]
  },
  {
   "cell_type": "code",
   "execution_count": 61,
   "metadata": {},
   "outputs": [],
   "source": [
    "#\n",
    "# mini-batch creation\n",
    "#\n",
    "def get_batch(split):\n",
    "    data = training_data if split == 'train' else validation_data\n",
    "    ix = torch.randint(len(data) - t.sample_size, (batch_size, ))\n",
    "    x = torch.stack([data[i:i+t.sample_size] for i in ix])\n",
    "    y = torch.stack([data[i+1:i+t.sample_size+1] for i in ix])\n",
    "    x,y = x.to(t.device), y.to(t.device)\n",
    "    return x,y\n",
    "#\n",
    "# evaluation\n",
    "#\n",
    "@torch.no_grad()\n",
    "def estimate_loss():\n",
    "    out = {}\n",
    "    model.eval()\n",
    "    for split in ['train', 'val']:\n",
    "        losses = torch.zeros(eval_iters)\n",
    "        for k in range(eval_iters):\n",
    "            x, y = get_batch(split)\n",
    "            _, loss = model(x, y)\n",
    "            losses[k] = loss.item()\n",
    "        out[split] = losses.mean()\n",
    "    model.train()\n",
    "    return out"
   ]
  },
  {
   "cell_type": "code",
   "execution_count": 62,
   "metadata": {},
   "outputs": [
    {
     "name": "stdout",
     "output_type": "stream",
     "text": [
      "step 0: train loss 4.3224, val loss 4.3186\n",
      "step 2000: train loss 1.6896, val loss 1.8456\n",
      "step 4000: train loss 1.4663, val loss 1.6647\n",
      "step 6000: train loss 1.3723, val loss 1.5863\n",
      "step 8000: train loss 1.3119, val loss 1.5455\n"
     ]
    }
   ],
   "source": [
    "#\n",
    "# Training\n",
    "#\n",
    "model.train()\n",
    "for iter in range(max_iterations):\n",
    "    if iter % eval_interval == 0:\n",
    "        losses = estimate_loss()\n",
    "        print(f\"step {iter}: train loss {losses['train']:.4f}, val loss {losses['val']:.4f}\")\n",
    "\n",
    "    xb, yb = get_batch('train')\n",
    "    _, loss = model(xb,yb)\n",
    "    optimizer.zero_grad()\n",
    "    loss.backward()\n",
    "    optimizer.step()"
   ]
  },
  {
   "cell_type": "code",
   "execution_count": 64,
   "metadata": {},
   "outputs": [
    {
     "name": "stdout",
     "output_type": "stream",
     "text": [
      "\n",
      "Nurse: and they are my based hour, and he.\n",
      "\n",
      "SLY:\n",
      "Me true, for he your mother, in hards, put me hate,\n",
      "And take the sun's coat, as farewell myself life.\n",
      "\n",
      "WARWICK:\n",
      "Why, it is bethink too quest: and, it dry spay\n",
      "The stay that bounds of him changed in up,\n",
      "I beside happy with mindowing, undid it,\n",
      "And my househood friends.\n",
      "\n",
      "ISABELLA:\n",
      "My lord, and so quarrel it face\n",
      "And suit not our smallows ire was that we said\n",
      "Gave yea, I, that ever your highness' slaughter Christian come\n",
      "Pardon queen, as the persuade\n"
     ]
    }
   ],
   "source": [
    "model.eval()\n",
    "print(decode(m.generate(torch.zeros((1,1), dtype=torch.long, device=t.device), max_tokens=500)[0].tolist()))"
   ]
  },
  {
   "cell_type": "code",
   "execution_count": 63,
   "metadata": {},
   "outputs": [
    {
     "name": "stdout",
     "output_type": "stream",
     "text": [
      "============= Diagnostic Run torch.onnx.export version 2.0.1+cu117 =============\n",
      "verbose: False, log level: Level.ERROR\n",
      "======================= 0 NONE 0 NOTE 0 WARNING 0 ERROR ========================\n",
      "\n"
     ]
    }
   ],
   "source": [
    "model.eval()\n",
    "dummy_input = torch.randint(low=0, high=t.vocabulary_size, size=(1, t.sample_size), dtype=torch.long)\n",
    "torch.onnx.export(model, dummy_input, \"shakespeare.onnx\")"
   ]
  },
  {
   "cell_type": "code",
   "execution_count": 25,
   "metadata": {},
   "outputs": [],
   "source": [
    "dictionary = {str(k): v for k, v in itos.items()}\n",
    "with open('vocabulary.json', 'w') as file:\n",
    "    json.dump(dictionary, file)"
   ]
  }
 ],
 "metadata": {
  "kernelspec": {
   "display_name": "Python 3",
   "language": "python",
   "name": "python3"
  },
  "language_info": {
   "codemirror_mode": {
    "name": "ipython",
    "version": 3
   },
   "file_extension": ".py",
   "mimetype": "text/x-python",
   "name": "python",
   "nbconvert_exporter": "python",
   "pygments_lexer": "ipython3",
   "version": "3.11.3"
  },
  "orig_nbformat": 4
 },
 "nbformat": 4,
 "nbformat_minor": 2
}
