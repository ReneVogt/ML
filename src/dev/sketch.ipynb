{
 "cells": [
  {
   "cell_type": "code",
   "execution_count": 64,
   "metadata": {},
   "outputs": [],
   "source": [
    "import torch\n",
    "import json\n",
    "import transformer as t\n",
    "import tokenizer as tokenizer\n",
    "import importlib\n",
    "importlib.reload(t);\n",
    "importlib.reload(tokenizer);"
   ]
  },
  {
   "cell_type": "code",
   "execution_count": 73,
   "metadata": {},
   "outputs": [],
   "source": [
    "#\n",
    "# Hyper parameter\n",
    "#\n",
    "topic           = 'commits'\n",
    "batch_size      = 64\n",
    "max_iterations  = 4000\n",
    "eval_interval   = 1000\n",
    "learning_rate   = 1e-4\n",
    "eval_iters      = 200\n",
    "\n",
    "#\n",
    "# Network \n",
    "#\n",
    "t.attention_heads_per_block = 8\n",
    "t.attention_blocks          = 16\n",
    "t.sample_size               = 32     # number of consecutive characters to predict from\n",
    "t.embedding_size            = 256    # size of the embedding vectors\n",
    "t.dropout                   = 0.2\n",
    "\n",
    "# remember to set t.vocabulary_size when data is loaded"
   ]
  },
  {
   "cell_type": "code",
   "execution_count": 68,
   "metadata": {},
   "outputs": [],
   "source": [
    "# read in file\n",
    "with open(f'{topic}/{topic}.txt', 'r', encoding='utf-8') as f:\n",
    "    text = f.read()\n",
    "\n",
    "decoder, tokens = tokenizer.tokenize(text, 100)\n",
    "t.vocabulary_size = len(decoder)\n",
    "decode = lambda l: ''.join([decoder[i] for i in l])\n",
    "\n",
    "# save vocabulary\n",
    "dictionary = {str(k): v for k, v in decoder.items()}\n",
    "with open(f'{topic}/vocabulary.json', 'w') as file:\n",
    "    json.dump(dictionary, file)\n",
    "\n",
    "# create data tensors\n",
    "data = torch.tensor(tokens, dtype=torch.long)\n",
    "n = int(0.9*len(data))\n",
    "training_data = data[:n]\n",
    "validation_data = data[n:]"
   ]
  },
  {
   "cell_type": "code",
   "execution_count": 74,
   "metadata": {},
   "outputs": [
    {
     "data": {
      "text/plain": [
       "12738254"
      ]
     },
     "execution_count": 74,
     "metadata": {},
     "output_type": "execute_result"
    }
   ],
   "source": [
    "#\n",
    "# Create model\n",
    "#\n",
    "torch.manual_seed(1337)\n",
    "model = t.Transformer()\n",
    "m = model.to(t.device)\n",
    "optimizer = torch.optim.AdamW(model.parameters(), lr=learning_rate)\n",
    "start_iteration = 0\n",
    "sum(p.nelement() for p in model.parameters())"
   ]
  },
  {
   "cell_type": "code",
   "execution_count": null,
   "metadata": {},
   "outputs": [],
   "source": [
    "#\n",
    "# Load model from checkpoint\n",
    "#\n",
    "start_iteration = 2001\n",
    "\n",
    "# Load the states\n",
    "checkpoint = torch.load(f'{topic}/{topic}-{start_iteration-1}.nn');\n",
    "model.load_state_dict(checkpoint['model_state_dict']);\n",
    "optimizer.load_state_dict(checkpoint['optimizer_state_dict']);\n",
    "\n",
    "model.train()"
   ]
  },
  {
   "cell_type": "code",
   "execution_count": 75,
   "metadata": {},
   "outputs": [],
   "source": [
    "#\n",
    "# mini-batch creation\n",
    "#\n",
    "def get_batch(split):\n",
    "    data = training_data if split == 'train' else validation_data\n",
    "    ix = torch.randint(len(data) - t.sample_size, (batch_size, ))\n",
    "    x = torch.stack([data[i:i+t.sample_size] for i in ix])\n",
    "    y = torch.stack([data[i+1:i+t.sample_size+1] for i in ix])\n",
    "    x,y = x.to(t.device), y.to(t.device)\n",
    "    return x,y\n",
    "#\n",
    "# evaluation\n",
    "#\n",
    "@torch.no_grad()\n",
    "def estimate_loss():\n",
    "    out = {}\n",
    "    model.eval()\n",
    "    for split in ['train', 'val']:\n",
    "        losses = torch.zeros(eval_iters)\n",
    "        for k in range(eval_iters):\n",
    "            x, y = get_batch(split)\n",
    "            _, loss = model(x, y)\n",
    "            losses[k] = loss.item()\n",
    "        out[split] = losses.mean()\n",
    "    model.train()\n",
    "    return out\n",
    "\n",
    "def save_model(step):\n",
    "    model.eval()\n",
    "    torch.save({\n",
    "        'model_state_dict': model.state_dict(),\n",
    "        'optimizer_state_dict': optimizer.state_dict(),\n",
    "    }, f'{topic}/{topic}-{step}.nn');\n",
    "    model.train()\n",
    "\n",
    "def export_model(step):\n",
    "    model.eval()\n",
    "    dummy_input = torch.randint(low=0, high=t.vocabulary_size, size=(1, t.sample_size), dtype=torch.long)\n",
    "    torch.onnx.export(model, dummy_input, f\"{topic}/{topic}-{step}.onnx\");\n",
    "    model.train()    "
   ]
  },
  {
   "cell_type": "code",
   "execution_count": 76,
   "metadata": {},
   "outputs": [
    {
     "name": "stdout",
     "output_type": "stream",
     "text": [
      "0: evaluating...\n"
     ]
    }
   ],
   "source": [
    "#\n",
    "# Training\n",
    "#\n",
    "model.train()\n",
    "for iter in range(max_iterations):\n",
    "    current_iteration = iter + start_iteration\n",
    "    if current_iteration % eval_interval == 0 and (start_iteration == 0 or current_iteration > start_iteration):\n",
    "        print(f\"{current_iteration}: evaluating...\")\n",
    "        losses = estimate_loss()\n",
    "        print(f\"{current_iteration}: train loss {losses['train']:.4f}, val loss {losses['val']:.4f}\")    \n",
    "\n",
    "    if current_iteration % 1000 == 0 and (start_iteration == 0 or current_iteration > start_iteration):\n",
    "        print(f\"{current_iteration}: saving checkpoint...\")\n",
    "        save_model(current_iteration);\n",
    "        export_model(current_iteration);\n",
    "        print(f\"{current_iteration}: checkpoint saved.\")\n",
    "\n",
    "    if current_iteration % 250 == 0:\n",
    "        print(f\"{current_iteration}: training\")\n",
    "\n",
    "    xb, yb = get_batch('train')\n",
    "    _, loss = model(xb,yb)\n",
    "    optimizer.zero_grad()\n",
    "    loss.backward()\n",
    "    optimizer.step()\n",
    "\n",
    "current_iteration += 1\n",
    "print(f\"{current_iteration}: evaluating...\")\n",
    "losses = estimate_loss()\n",
    "print(f\"{current_iteration}: train loss {losses['train']:.4f}, val loss {losses['val']:.4f}\")\n",
    "print(f\"{current_iteration}: saving checkpoint...\")\n",
    "save_model(current_iteration)\n",
    "export_model(current_iteration)\n",
    "print(f\"{current_iteration}: checkpoint saved.\")"
   ]
  },
  {
   "attachments": {},
   "cell_type": "markdown",
   "metadata": {},
   "source": [
    "### Commit message generation training\n",
    "\n",
    "#### Hyper and network parameters\n",
    "| Parameter                 | Value \n",
    "| :--------                 | ----:\n",
    "| tokenizer steps           | 100\n",
    "| sample size               | 32\n",
    "| embedding size            | 256\n",
    "| batch size                | 64\n",
    "| learning rate             | 1e-4\n",
    "| attention heads per block | 8\n",
    "| attention blocks          | 16\n",
    "| dropout ratio             | 0.2\n",
    "\n",
    "\n",
    "#### Training results\n",
    "| Iteration | Loss (training)   | Loss (validation)\n",
    "| :-------: | :-------------:   | :---------------:\n",
    "| 0         | 8.2615            | 8.2457 \n"
   ]
  },
  {
   "cell_type": "code",
   "execution_count": 19,
   "metadata": {},
   "outputs": [
    {
     "name": "stdout",
     "output_type": "stream",
     "text": [
      "GFILES\n",
      "1not in TFS -> Fixed debug when Oid-Event for OQR ChangeErpDeviceCallback Referenz behoben\n",
      "Parameternalen Logging-Ausgaben\n",
      "Kommentar\n",
      "ToDn-Sufrter Konmentarbe Optimierung (nur im Looltips und die SapDevice-Antragung der Rows2, Tests\n",
      "Handlbar noch bei \"AktiveServicesMsi - und version 3.03 5.9.1.sql to 4.3\n",
      "Configuration to text to the repository\n",
      "using of DriverInityContextSpoolerConfigVersionsGetPrintServerServerChecks tests + Parameter layout bei ActVield\n",
      "Implementedmodus\n",
      "PrintServer implementiert\n",
      "Interfaces für Benutzerverwaltung\n",
      "Serverd-Systeme von der Loggings aus Start, Default einfachen\n",
      "Unterschlüsselung\n",
      "Nochmal bei prüft sind\n",
      "Control\n",
      "Leerzeichen aktualisieren (noch können\n",
      "BuyeeXml-Namen ChangesAction öffnen auf 6.5 gefixt\n",
      "Fehler in der Eigenschaftendialog entfernt\n",
      "Versionsdialog verwendet specipatibility abgestellt\n",
      "DataContainer.gets auf Usage-Tests für hidlichbar, behavior problem besser angepasst\n",
      "Code und und zum Letzten angepasst beid wird erstellt geändert, während der Dat\n"
     ]
    }
   ],
   "source": [
    "model.eval()\n",
    "print(decode(m.generate(torch.zeros((1,1), dtype=torch.long, device=t.device), max_tokens=500)[0].tolist()))"
   ]
  },
  {
   "cell_type": "code",
   "execution_count": null,
   "metadata": {},
   "outputs": [],
   "source": []
  }
 ],
 "metadata": {
  "kernelspec": {
   "display_name": "Python 3",
   "language": "python",
   "name": "python3"
  },
  "language_info": {
   "codemirror_mode": {
    "name": "ipython",
    "version": 3
   },
   "file_extension": ".py",
   "mimetype": "text/x-python",
   "name": "python",
   "nbconvert_exporter": "python",
   "pygments_lexer": "ipython3",
   "version": "3.11.3"
  },
  "orig_nbformat": 4
 },
 "nbformat": 4,
 "nbformat_minor": 2
}
