{
 "cells": [
  {
   "cell_type": "code",
   "execution_count": 20,
   "metadata": {},
   "outputs": [],
   "source": [
    "import torch\n",
    "import json\n",
    "import transformer as t\n",
    "import importlib\n",
    "importlib.reload(t);"
   ]
  },
  {
   "cell_type": "code",
   "execution_count": 21,
   "metadata": {},
   "outputs": [],
   "source": [
    "# read in file\n",
    "with open('shakespeare.txt', 'r', encoding='utf-8') as f:\n",
    "    text = f.read()\n",
    "chars = sorted(list(set(text)))\n",
    "\n",
    "# Build encoder and decoder\n",
    "stoi = {ch:i for i,ch in enumerate(chars)}\n",
    "itos = {i:ch for i,ch in enumerate(chars)}\n",
    "encode = lambda s: [stoi[c] for c in s]\n",
    "decode = lambda l: ''.join([itos[i] for i in l])\n",
    "\n",
    "# create data tensors\n",
    "data = torch.tensor(encode(text), dtype=torch.long)\n",
    "n = int(0.9*len(data))\n",
    "training_data = data[:n]\n",
    "validation_data = data[n:]"
   ]
  },
  {
   "cell_type": "code",
   "execution_count": 30,
   "metadata": {},
   "outputs": [],
   "source": [
    "#\n",
    "# Hyper parameter\n",
    "#\n",
    "batch_size      = 64\n",
    "max_iterations  = 10000\n",
    "eval_interval   = 1000\n",
    "learning_rate   = 1e-4\n",
    "eval_iters      = 200"
   ]
  },
  {
   "cell_type": "code",
   "execution_count": 31,
   "metadata": {},
   "outputs": [
    {
     "data": {
      "text/plain": [
       "1604161"
      ]
     },
     "execution_count": 31,
     "metadata": {},
     "output_type": "execute_result"
    }
   ],
   "source": [
    "#\n",
    "# Network \n",
    "#\n",
    "t.vocabulary_size           = len(chars)\n",
    "t.attention_heads_per_block = 8\n",
    "t.attention_blocks          = 8\n",
    "t.sample_size               = 32     # number of consecutive characters to predict from\n",
    "t.embedding_size            = 128    # size of the embedding vectors\n",
    "t.dropout                   = 0.2\n",
    "\n",
    "torch.manual_seed(1337)\n",
    "\n",
    "model = t.Transformer()\n",
    "m = model.to(t.device)\n",
    "optimizer = torch.optim.AdamW(model.parameters(), lr=learning_rate)\n",
    "sum(p.nelement() for p in model.parameters())"
   ]
  },
  {
   "cell_type": "code",
   "execution_count": 32,
   "metadata": {},
   "outputs": [],
   "source": [
    "#\n",
    "# mini-batch creation\n",
    "#\n",
    "def get_batch(split):\n",
    "    data = training_data if split == 'train' else validation_data\n",
    "    ix = torch.randint(len(data) - t.sample_size, (batch_size, ))\n",
    "    x = torch.stack([data[i:i+t.sample_size] for i in ix])\n",
    "    y = torch.stack([data[i+1:i+t.sample_size+1] for i in ix])\n",
    "    x,y = x.to(t.device), y.to(t.device)\n",
    "    return x,y\n",
    "#\n",
    "# evaluation\n",
    "#\n",
    "@torch.no_grad()\n",
    "def estimate_loss():\n",
    "    out = {}\n",
    "    model.eval()\n",
    "    for split in ['train', 'val']:\n",
    "        losses = torch.zeros(eval_iters)\n",
    "        for k in range(eval_iters):\n",
    "            x, y = get_batch(split)\n",
    "            _, loss = model(x, y)\n",
    "            losses[k] = loss.item()\n",
    "        out[split] = losses.mean()\n",
    "    model.train()\n",
    "    return out"
   ]
  },
  {
   "cell_type": "code",
   "execution_count": 33,
   "metadata": {},
   "outputs": [
    {
     "name": "stdout",
     "output_type": "stream",
     "text": [
      "step 0: train loss 4.3103, val loss 4.3119\n",
      "step 1000: train loss 2.2961, val loss 2.3115\n",
      "step 2000: train loss 2.0923, val loss 2.1203\n",
      "step 3000: train loss 1.9413, val loss 2.0052\n",
      "step 4000: train loss 1.8400, val loss 1.9481\n",
      "step 5000: train loss 1.7712, val loss 1.8911\n",
      "step 6000: train loss 1.7122, val loss 1.8606\n",
      "step 7000: train loss 1.6752, val loss 1.8291\n",
      "step 8000: train loss 1.6365, val loss 1.8023\n",
      "step 9000: train loss 1.6129, val loss 1.7774\n"
     ]
    }
   ],
   "source": [
    "#\n",
    "# Training\n",
    "#\n",
    "model.train()\n",
    "for iter in range(max_iterations):\n",
    "    if iter % eval_interval == 0:\n",
    "        losses = estimate_loss()\n",
    "        print(f\"step {iter}: train loss {losses['train']:.4f}, val loss {losses['val']:.4f}\")\n",
    "\n",
    "    xb, yb = get_batch('train')\n",
    "    _, loss = model(xb,yb)\n",
    "    optimizer.zero_grad()\n",
    "    loss.backward()\n",
    "    optimizer.step()"
   ]
  },
  {
   "cell_type": "code",
   "execution_count": 41,
   "metadata": {},
   "outputs": [
    {
     "name": "stdout",
     "output_type": "stream",
     "text": [
      "\n",
      "Beak, your aboann teterly. Whis it: pray heir so fly\n",
      "come the from course inchish'd, who this in bine\n",
      "personator, with now. Wou'll dow my pady, not my more, I be sut,\n",
      "Your have tends of their destatious.\n",
      "\n",
      "CLAUDIO:\n",
      "Avouds not and it not at so secondlents,\n",
      "The virtable have beho-news, as!\n",
      "Two enematious and retwitted; and where us my.\n",
      "\n",
      "CAMILLIXE:\n",
      "I see; thou and you goins him speck:' the perve afarrish going hath\n",
      "nother of your now.\n",
      "How to good of this wearwers, and this\n",
      "suir, what earthing will t\n"
     ]
    }
   ],
   "source": [
    "model.eval()\n",
    "print(decode(m.generate(torch.zeros((1,1), dtype=torch.long, device=t.device), max_tokens=500)[0].tolist()))"
   ]
  },
  {
   "cell_type": "code",
   "execution_count": 34,
   "metadata": {},
   "outputs": [
    {
     "name": "stdout",
     "output_type": "stream",
     "text": [
      "============= Diagnostic Run torch.onnx.export version 2.0.1+cu117 =============\n",
      "verbose: False, log level: Level.ERROR\n",
      "======================= 0 NONE 0 NOTE 0 WARNING 0 ERROR ========================\n",
      "\n"
     ]
    }
   ],
   "source": [
    "model.eval()\n",
    "dummy_input = torch.randint(low=0, high=t.vocabulary_size, size=(1, t.sample_size), dtype=torch.long)\n",
    "torch.onnx.export(model, dummy_input, \"shakespeare.onnx\")"
   ]
  },
  {
   "cell_type": "code",
   "execution_count": 25,
   "metadata": {},
   "outputs": [],
   "source": [
    "dictionary = {str(k): v for k, v in itos.items()}\n",
    "with open('vocabulary.json', 'w') as file:\n",
    "    json.dump(dictionary, file)"
   ]
  },
  {
   "cell_type": "code",
   "execution_count": 40,
   "metadata": {},
   "outputs": [
    {
     "name": "stdout",
     "output_type": "stream",
     "text": [
      "torch.Size([1, 1, 65])\n"
     ]
    },
    {
     "data": {
      "text/plain": [
       "tensor([[[ 4.3852,  0.1501, -2.5360, -5.0073, -5.0465,  0.7647, -2.6163,\n",
       "          -1.0492, -2.3769, -1.5028, -2.9693, -3.0699, -2.3592,  3.8402,\n",
       "           3.1802,  2.9342,  2.5405,  2.1754,  2.6501,  2.4955,  2.6384,\n",
       "           3.5714,  0.2826,  1.8305,  2.5982,  2.7136,  2.3531,  2.2754,\n",
       "           2.0418,  0.1249,  1.9395,  3.0119,  3.8287,  1.4961,  1.0179,\n",
       "           3.3039, -3.4046,  1.7637, -2.2764, -0.0277, -1.0070, -0.9106,\n",
       "          -0.8728, -0.9795,  0.2835, -1.0792,  0.8310,  0.0492, -2.0508,\n",
       "          -1.9128, -0.4639, -0.7657, -0.8620,  0.0898, -1.1548, -2.9049,\n",
       "          -1.1125,  0.0181,  0.6845, -2.2651, -1.3133,  0.2942, -3.4005,\n",
       "          -0.1827, -3.7738]]], grad_fn=<ViewBackward0>)"
      ]
     },
     "execution_count": 40,
     "metadata": {},
     "output_type": "execute_result"
    }
   ],
   "source": [
    "model.eval()\n",
    "testinput = torch.zeros((1,1), dtype=torch.long)\n",
    "result, _ = model(testinput)\n",
    "result = result[:, -1, :]\n",
    "probs = F.softmax(logits, dim=-1)\n",
    "print(result.shape)\n",
    "result"
   ]
  },
  {
   "cell_type": "code",
   "execution_count": null,
   "metadata": {},
   "outputs": [],
   "source": []
  }
 ],
 "metadata": {
  "kernelspec": {
   "display_name": "Python 3",
   "language": "python",
   "name": "python3"
  },
  "language_info": {
   "codemirror_mode": {
    "name": "ipython",
    "version": 3
   },
   "file_extension": ".py",
   "mimetype": "text/x-python",
   "name": "python",
   "nbconvert_exporter": "python",
   "pygments_lexer": "ipython3",
   "version": "3.11.3"
  },
  "orig_nbformat": 4
 },
 "nbformat": 4,
 "nbformat_minor": 2
}
