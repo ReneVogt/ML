{
 "cells": [
  {
   "attachments": {},
   "cell_type": "markdown",
   "metadata": {},
   "source": [
    "# A language model using a WaveNet\n",
    "\n",
    "In this notebook I try to follow the WaveNet approach to language modelling that [Andrej Karpathy](https://karpathy.ai/zero-to-hero.html) describes in his [makemore](https://github.com/karpathy/makemore) repository.\n",
    "It follows the paper [\"WaveNet: A Generative Model for Raw Audio\"](https://arxiv.org/abs/1609.03499) by van den Oord et al. (2016)."
   ]
  },
  {
   "cell_type": "code",
   "execution_count": 43,
   "metadata": {},
   "outputs": [],
   "source": [
    "import torch\n",
    "import torch.nn\n",
    "import torch.nn.functional as F\n",
    "import random\n",
    "import matplotlib.pyplot as plt\n",
    "import struct\n",
    "%matplotlib inline"
   ]
  },
  {
   "cell_type": "code",
   "execution_count": 3,
   "metadata": {},
   "outputs": [],
   "source": [
    "# Set the size of the feature vector in the C matrix.\n",
    "# This is typically much much smaller than the vocabulary\n",
    "# size.\n",
    "feature_size = 15\n",
    "\n",
    "# The size of the input samples. We take\n",
    "# block_size consecutive elements as input\n",
    "# and predict the following element.\n",
    "block_size = 16\n",
    "\n",
    "# Hidden layer size. Object of experiments.\n",
    "hidden_size = 350\n",
    "\n",
    "# Use generator to get reproducible results for debugging\n",
    "generator = torch.Generator().manual_seed(2147483647)"
   ]
  },
  {
   "cell_type": "code",
   "execution_count": 4,
   "metadata": {},
   "outputs": [
    {
     "data": {
      "text/plain": [
       "15"
      ]
     },
     "execution_count": 4,
     "metadata": {},
     "output_type": "execute_result"
    }
   ],
   "source": [
    "# read names from file and \n",
    "# create encoding and decoding dictionaries\n",
    "# to map characters to integers\n",
    "words = open(\"../../../TrainingData/names.txt\").read().splitlines()\n",
    "chars = sorted(list(set(''.join(words))))\n",
    "stoi = {s:i+1 for i,s in enumerate(chars)}\n",
    "stoi['.'] = 0\n",
    "itos = {i:s for s,i in stoi.items()}\n",
    "vocabulary_size = len(itos)\n",
    "\n",
    "max(len(s) for s in words)"
   ]
  },
  {
   "cell_type": "code",
   "execution_count": 5,
   "metadata": {},
   "outputs": [],
   "source": [
    "def build_dataset(words):\n",
    "    X,Y = [],[]\n",
    "    for w in words:\n",
    "        #print(w)\n",
    "        context = [0]*block_size\n",
    "        for ch in w + '.':\n",
    "            ix = stoi[ch]\n",
    "            X.append(context)\n",
    "            Y.append(ix)\n",
    "            #print(''.join(itos[i] for i in context), '->', itos[ix])\n",
    "            context = context[1:] + [ix]\n",
    "    X = torch.tensor(X)\n",
    "    Y = torch.tensor(Y)\n",
    "    return X,Y\n",
    "\n",
    "random.seed(42)\n",
    "random.shuffle(words)\n",
    "n1 = int(0.8*len(words))\n",
    "n2 = int(0.9*len(words))\n",
    "\n",
    "Xtr, Ytr = build_dataset(words[:n1])\n",
    "Xdev, Ydev = build_dataset(words[n1:n2])\n",
    "Xte, Yte = build_dataset(words[n2:])\n",
    "X = torch.cat((Xtr, Xdev, Xte), dim=0)"
   ]
  },
  {
   "cell_type": "code",
   "execution_count": 6,
   "metadata": {},
   "outputs": [
    {
     "data": {
      "text/plain": [
       "63051"
      ]
     },
     "execution_count": 6,
     "metadata": {},
     "output_type": "execute_result"
    }
   ],
   "source": [
    "# create the embedding matrix that assigns a \n",
    "# \"feature_size\"-dimensional feature vector \n",
    "# to each character\n",
    "C = torch.randn((vocabulary_size,feature_size), generator=generator)\n",
    "\n",
    "# create the hidden layer weights (no need for biases, because of batch normalization)\n",
    "W1 = torch.randn(feature_size * block_size, hidden_size, generator=generator) * (5/3)/((feature_size*block_size)**0.5)\n",
    "# create the output layer weigts and biases\n",
    "W2 = torch.randn((hidden_size, vocabulary_size), generator=generator) * 0.01\n",
    "b2 = torch.tensor([0.] * vocabulary_size)\n",
    "\n",
    "# batch normalization\n",
    "bngain = torch.ones((1, hidden_size))\n",
    "bnbias = torch.zeros((1, hidden_size))\n",
    "bnmean = torch.zeros((1, hidden_size))\n",
    "bnstd = torch.ones((1, hidden_size))\n",
    "\n",
    "# collect parameters for efficient update\n",
    "parameters = [C, W1, W2, b2, bngain, bnbias]\n",
    "\n",
    "for p in parameters:\n",
    "    p.requires_grad = True\n",
    "\n",
    "sum(p.nelement() for p in parameters)"
   ]
  },
  {
   "cell_type": "code",
   "execution_count": 7,
   "metadata": {},
   "outputs": [],
   "source": [
    "batch_size = 128\n",
    "\n",
    "for i in range(500000):\n",
    "    # create minibatch\n",
    "    ix = torch.randint(0, Xtr.shape[0], (batch_size,))\n",
    "\n",
    "    # embedd the inputs by indexing into the C matrix\n",
    "    # This creates a new (trainingdatarows,block_size,feature_size) \n",
    "    # tensor by assigning the appropriate vector in C\n",
    "    # to the label in the (trainingdatarows,block_size) X tensor\n",
    "    embedded = C[Xtr[ix]]\n",
    "\n",
    "    # but we need this as a (trainingdatarows,block_size*feature_size) \n",
    "    # tensor as input to the net so we want for all the trainingdatarows \n",
    "    # in \"embedded\" to concat all the feature_size values in there \n",
    "    # block_size label tensors\n",
    "    input = embedded.view(-1, block_size*feature_size)\n",
    "\n",
    "    # forward pass\n",
    "    hidden_preact = input @ W1\n",
    "    bnmeani = hidden_preact.mean(0, keepdim=True)\n",
    "    bnstdi = hidden_preact.std(0, keepdim = True)\n",
    "    hidden_preact = bngain * (hidden_preact - bnmeani) / bnstdi + bnbias\n",
    "    hidden_output = torch.tanh(hidden_preact)\n",
    "    logits = hidden_output @ W2 + b2\n",
    "    loss = F.cross_entropy(logits, Ytr[ix])\n",
    "\n",
    "    with torch.no_grad():\n",
    "        bnmean = 0.999 * bnmean + 0.001 * bnmeani\n",
    "        bnstd = 0.999 * bnstd + 0.001 * bnstdi\n",
    "\n",
    "    # backward pass\n",
    "    for p in parameters:\n",
    "        p.grad = None\n",
    "    loss.backward()\n",
    "\n",
    "    learning_rate = 0.1 / (10 ** (i // 100000))\n",
    "\n",
    "    # update\n",
    "    for p in parameters:\n",
    "        p.data += -learning_rate * p.grad"
   ]
  },
  {
   "cell_type": "code",
   "execution_count": 16,
   "metadata": {},
   "outputs": [
    {
     "name": "stdout",
     "output_type": "stream",
     "text": [
      "train 1.768717646598816\n",
      "val 2.0449447631835938\n",
      "test 2.0438926219940186\n"
     ]
    }
   ],
   "source": [
    "@torch.no_grad()\n",
    "def print_loss(split):\n",
    "    x,y = {\n",
    "        'train': (Xtr, Ytr),\n",
    "        'val' : (Xdev, Ydev),\n",
    "        'test' : (Xte, Yte)\n",
    "    }[split]\n",
    "    embedded = C[x]\n",
    "    input = embedded.view(-1, block_size*feature_size)\n",
    "    hidden_preact = input @ W1\n",
    "    hidden_preact = bngain * (hidden_preact - bnmean) / bnstd + bnbias\n",
    "    hidden_output = torch.tanh(hidden_preact)\n",
    "    logits = hidden_output @ W2 + b2\n",
    "    loss = F.cross_entropy(logits, y)\n",
    "    print(split, loss.item())\n",
    "\n",
    "print_loss('train')\n",
    "print_loss('val')\n",
    "print_loss('test')\n"
   ]
  },
  {
   "cell_type": "code",
   "execution_count": null,
   "metadata": {},
   "outputs": [],
   "source": [
    "@torch.no_grad()\n",
    "def print_samples(count):\n",
    "    for _ in range(count):\n",
    "        out = []\n",
    "        context = [0] * block_size\n",
    "        while True:\n",
    "            emb = C[torch.tensor([context])]\n",
    "            input = emb.view(1, -1)\n",
    "            hidden_preact = input @ W1\n",
    "            hidden_preact = bngain * (hidden_preact - bnmean) / bnstd + bnbias\n",
    "            hidden_output = torch.tanh(hidden_preact)\n",
    "            logits = hidden_output @ W2 + b2\n",
    "            probs = F.softmax(logits, dim=1)\n",
    "            ix = torch.multinomial(probs, num_samples=1, generator=generator).item()\n",
    "            context = context[1:] + [ix]\n",
    "            out.append(ix)\n",
    "            if ix == 0:\n",
    "                break\n",
    "        \n",
    "        print(''.join(itos[i] for i in out))\n",
    "\n",
    "print_samples(20)"
   ]
  },
  {
   "cell_type": "code",
   "execution_count": 22,
   "metadata": {},
   "outputs": [],
   "source": [
    "b_feature_size = struct.pack('i', feature_size)\n",
    "b_block_size = struct.pack('i', block_size)\n",
    "b_hidden_size = struct.pack('i', hidden_size)\n",
    "\n",
    "l_C = C.view(-1).tolist()\n",
    "b_C = struct.pack(f'{len(l_C)}f', *l_C)\n",
    "\n",
    "l_W1 = W1.view(-1).tolist()\n",
    "b_W1 = struct.pack(f'{len(l_W1)}f', *l_W1)\n",
    "\n",
    "l_bngain = bngain.view(-1).tolist()\n",
    "b_bngain = struct.pack(f'{len(l_bngain)}f', *l_bngain)\n",
    "l_bnbias = bnbias.view(-1).tolist()\n",
    "b_bnbias = struct.pack(f'{len(l_bnbias)}f', *l_bnbias)\n",
    "l_bnmean = bnmean.view(-1).tolist()\n",
    "b_bnmean = struct.pack(f'{len(l_bnmean)}f', *l_bnmean)\n",
    "l_bnstd = bnstd.view(-1).tolist()\n",
    "b_bnstd = struct.pack(f'{len(l_bnstd)}f', *l_bnstd)\n",
    "\n",
    "l_W2 = W2.view(-1).tolist()\n",
    "b_W2 = struct.pack(f'{len(l_W2)}f', *l_W2)\n",
    "l_b2 = b2.view(-1).tolist()\n",
    "b_b2 = struct.pack(f'{len(l_b2)}f', *l_b2)\n",
    "\n",
    "with open('names.dat', 'wb') as f:\n",
    "    f.write(b_feature_size)\n",
    "    f.write(b_block_size)\n",
    "    f.write(b_hidden_size)\n",
    "    f.write(b_C)\n",
    "    f.write(b_W1)\n",
    "    f.write(b_bngain)\n",
    "    f.write(b_bnbias)\n",
    "    f.write(b_bnmean)\n",
    "    f.write(b_bnstd)\n",
    "    f.write(b_W2)\n",
    "    f.write(b_b2)"
   ]
  },
  {
   "cell_type": "code",
   "execution_count": 42,
   "metadata": {},
   "outputs": [
    {
     "data": {
      "text/plain": [
       "tensor([ 0.6691,  1.4858, -0.4469, -0.2040, -0.0691,  1.2503, -1.0167, -0.4872,\n",
       "         0.3681,  0.7203, -0.6931,  0.0090,  0.4676,  0.0786,  0.9308,  0.6023,\n",
       "        -0.9886, -1.4780,  0.8872,  0.6303,  0.3457, -0.4251, -0.2993, -0.7164,\n",
       "        -1.3817,  0.2789, -0.5161], requires_grad=True)"
      ]
     },
     "execution_count": 42,
     "metadata": {},
     "output_type": "execute_result"
    }
   ],
   "source": [
    "b2"
   ]
  },
  {
   "cell_type": "code",
   "execution_count": null,
   "metadata": {},
   "outputs": [],
   "source": []
  }
 ],
 "metadata": {
  "kernelspec": {
   "display_name": "Python 3",
   "language": "python",
   "name": "python3"
  },
  "language_info": {
   "codemirror_mode": {
    "name": "ipython",
    "version": 3
   },
   "file_extension": ".py",
   "mimetype": "text/x-python",
   "name": "python",
   "nbconvert_exporter": "python",
   "pygments_lexer": "ipython3",
   "version": "3.11.3"
  },
  "orig_nbformat": 4
 },
 "nbformat": 4,
 "nbformat_minor": 2
}
