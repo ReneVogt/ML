{
 "cells": [
  {
   "attachments": {},
   "cell_type": "markdown",
   "metadata": {},
   "source": [
    "# A language model using a WaveNet\n",
    "\n",
    "In this notebook I try to follow the WaveNet approach to language modelling that [Andrej Karpathy](https://karpathy.ai/zero-to-hero.html) describes in his [makemore](https://github.com/karpathy/makemore) repository.\n",
    "It follows the paper [\"WaveNet: A Generative Model for Raw Audio\"](https://arxiv.org/abs/1609.03499) by van den Oord et al. (2016)."
   ]
  },
  {
   "cell_type": "code",
   "execution_count": null,
   "metadata": {},
   "outputs": [],
   "source": [
    "import torch\n",
    "import torch.nn.functional as F\n",
    "import random\n",
    "import matplotlib.pyplot as plt\n",
    "import struct\n",
    "import nn\n",
    "%matplotlib inline"
   ]
  },
  {
   "cell_type": "code",
   "execution_count": null,
   "metadata": {},
   "outputs": [],
   "source": [
    "#\n",
    "# hyperparameters\n",
    "#\n",
    "block_size = 8          # the size of the context (how many characters of input)\n",
    "feature_size = 5        # the size of an embedding vector\n",
    "hidden_size = 100       # the size of the hidden tanh layer\n",
    "\n",
    "torch.manual_seed(42);"
   ]
  },
  {
   "cell_type": "code",
   "execution_count": null,
   "metadata": {},
   "outputs": [],
   "source": [
    "# read names from file and \n",
    "# create encoding and decoding dictionaries\n",
    "# to map characters to integers\n",
    "words = open(\"../../../TrainingData/names.txt\").read().splitlines()\n",
    "chars = sorted(list(set(''.join(words))))\n",
    "stoi = {s:i+1 for i,s in enumerate(chars)}\n",
    "stoi['.'] = 0\n",
    "itos = {i:s for s,i in stoi.items()}\n",
    "vocabulary_size = len(itos)"
   ]
  },
  {
   "cell_type": "code",
   "execution_count": null,
   "metadata": {},
   "outputs": [],
   "source": [
    "def build_dataset(words):\n",
    "    X,Y = [],[]\n",
    "    for w in words:\n",
    "        #print(w)\n",
    "        context = [0]*block_size\n",
    "        for ch in w + '.':\n",
    "            ix = stoi[ch]\n",
    "            X.append(context)\n",
    "            Y.append(ix)\n",
    "            #print(''.join(itos[i] for i in context), '->', itos[ix])\n",
    "            context = context[1:] + [ix]\n",
    "    X = torch.tensor(X)\n",
    "    Y = torch.tensor(Y)\n",
    "    return X,Y\n",
    "\n",
    "random.seed(42)\n",
    "random.shuffle(words)\n",
    "n1 = int(0.8*len(words))\n",
    "n2 = int(0.9*len(words))\n",
    "\n",
    "Xtr, Ytr = build_dataset(words[:n1])\n",
    "Xdev, Ydev = build_dataset(words[n1:n2])\n",
    "Xte, Yte = build_dataset(words[n2:])\n",
    "X = torch.cat((Xtr, Xdev, Xte), dim=0)"
   ]
  },
  {
   "cell_type": "code",
   "execution_count": null,
   "metadata": {},
   "outputs": [],
   "source": [
    "# create the layers\n",
    "network = nn.Sequential([\n",
    "    nn.Embedding(vocabulary_size, feature_size),\n",
    "    nn.Flatten(),\n",
    "    nn.Linear(feature_size * block_size, hidden_size, bias=False),\n",
    "    nn.BatchNorm1d(hidden_size),\n",
    "    nn.Tanh(),\n",
    "    nn.Linear(hidden_size, vocabulary_size)]\n",
    ")\n",
    "\n",
    "# initialize parameters\n",
    "with torch.no_grad():\n",
    "    network.layers[-1].weight *= 0.1 # reduce confidence in initial output    \n",
    "for p in network.parameters():\n",
    "    p.requires_grad = True\n",
    "\n",
    "sum(p.nelement() for p in network.parameters())"
   ]
  },
  {
   "cell_type": "code",
   "execution_count": null,
   "metadata": {},
   "outputs": [],
   "source": [
    "batch_size = 64\n",
    "lossi = []\n",
    "network.training = True\n",
    "for i in range(10000):\n",
    "    # create minibatch\n",
    "    ix = torch.randint(0, Xtr.shape[0], (batch_size,))\n",
    "\n",
    "    # forward pass\n",
    "    logits = network(Xtr[ix])\n",
    "    \n",
    "    loss = F.cross_entropy(logits, Ytr[ix])\n",
    "    lossi.append(loss)\n",
    "\n",
    "    # backward pass\n",
    "    network.zero_grad()\n",
    "    loss.backward()\n",
    "\n",
    "    # update\n",
    "    learning_rate = 0.1 / (10 ** (i // 100000))\n",
    "    network.update(learning_rate)\n",
    "\n",
    "network.training = False\n",
    "loss"
   ]
  },
  {
   "cell_type": "code",
   "execution_count": null,
   "metadata": {},
   "outputs": [],
   "source": [
    "plt.plot(torch.tensor(lossi).view(-1,100).mean(1))\n"
   ]
  },
  {
   "cell_type": "code",
   "execution_count": null,
   "metadata": {},
   "outputs": [],
   "source": [
    "@torch.no_grad()\n",
    "def print_loss(split):\n",
    "    x,y = {\n",
    "        'train': (Xtr, Ytr),\n",
    "        'val' : (Xdev, Ydev),\n",
    "        'test' : (Xte, Yte)\n",
    "    }[split]\n",
    "    logits = network(x)\n",
    "    loss = F.cross_entropy(logits, y)\n",
    "    print(split, loss.item())\n",
    "\n",
    "network.training = False\n",
    "print_loss('train')\n",
    "print_loss('val')\n",
    "print_loss('test')\n"
   ]
  },
  {
   "cell_type": "code",
   "execution_count": null,
   "metadata": {},
   "outputs": [],
   "source": [
    "@torch.no_grad()\n",
    "def print_samples(count):\n",
    "    for _ in range(count):\n",
    "        out = []\n",
    "        context = [0] * block_size\n",
    "        while True:\n",
    "            x = torch.tensor([context])\n",
    "            x = network(x)\n",
    "            probs = F.softmax(x, dim=1)\n",
    "            ix = torch.multinomial(probs, num_samples=1).item()\n",
    "            context = context[1:] + [ix]\n",
    "            out.append(ix)\n",
    "            if ix == 0:\n",
    "                break\n",
    "        \n",
    "        print(''.join(itos[i] for i in out))\n",
    "\n",
    "network.training = False\n",
    "print_samples(20)"
   ]
  }
 ],
 "metadata": {
  "kernelspec": {
   "display_name": "Python 3",
   "language": "python",
   "name": "python3"
  },
  "language_info": {
   "codemirror_mode": {
    "name": "ipython",
    "version": 3
   },
   "file_extension": ".py",
   "mimetype": "text/x-python",
   "name": "python",
   "nbconvert_exporter": "python",
   "pygments_lexer": "ipython3",
   "version": "3.11.3"
  },
  "orig_nbformat": 4
 },
 "nbformat": 4,
 "nbformat_minor": 2
}
